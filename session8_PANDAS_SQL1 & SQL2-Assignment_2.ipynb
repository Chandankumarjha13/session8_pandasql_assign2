{
 "cells": [
  {
   "cell_type": "code",
   "execution_count": null,
   "metadata": {},
   "outputs": [],
   "source": [
    "\n"
   ]
  },
  {
   "cell_type": "markdown",
   "metadata": {},
   "source": [
    "# 8.PANDAS SQL 1 & SQL 2-Assignment-2"
   ]
  },
  {
   "cell_type": "markdown",
   "metadata": {},
   "source": [
    "# Read the following data set:\n",
    "https://archive.ics.uci.edu/ml/machine-learning-databases/adult/adult.data"
   ]
  },
  {
   "cell_type": "code",
   "execution_count": 20,
   "metadata": {
    "scrolled": true
   },
   "outputs": [
    {
     "data": {
      "text/html": [
       "<div>\n",
       "<style scoped>\n",
       "    .dataframe tbody tr th:only-of-type {\n",
       "        vertical-align: middle;\n",
       "    }\n",
       "\n",
       "    .dataframe tbody tr th {\n",
       "        vertical-align: top;\n",
       "    }\n",
       "\n",
       "    .dataframe thead th {\n",
       "        text-align: right;\n",
       "    }\n",
       "</style>\n",
       "<table border=\"1\" class=\"dataframe\">\n",
       "  <thead>\n",
       "    <tr style=\"text-align: right;\">\n",
       "      <th></th>\n",
       "      <th>39</th>\n",
       "      <th>State-gov</th>\n",
       "      <th>77516</th>\n",
       "      <th>Bachelors</th>\n",
       "      <th>13</th>\n",
       "      <th>Never-married</th>\n",
       "      <th>Adm-clerical</th>\n",
       "      <th>Not-in-family</th>\n",
       "      <th>White</th>\n",
       "      <th>Male</th>\n",
       "      <th>2174</th>\n",
       "      <th>0</th>\n",
       "      <th>40</th>\n",
       "      <th>United-States</th>\n",
       "      <th>&lt;=50K</th>\n",
       "    </tr>\n",
       "  </thead>\n",
       "  <tbody>\n",
       "    <tr>\n",
       "      <th>0</th>\n",
       "      <td>50</td>\n",
       "      <td>Self-emp-not-inc</td>\n",
       "      <td>83311</td>\n",
       "      <td>Bachelors</td>\n",
       "      <td>13</td>\n",
       "      <td>Married-civ-spouse</td>\n",
       "      <td>Exec-managerial</td>\n",
       "      <td>Husband</td>\n",
       "      <td>White</td>\n",
       "      <td>Male</td>\n",
       "      <td>0</td>\n",
       "      <td>0</td>\n",
       "      <td>13</td>\n",
       "      <td>United-States</td>\n",
       "      <td>&lt;=50K</td>\n",
       "    </tr>\n",
       "    <tr>\n",
       "      <th>1</th>\n",
       "      <td>38</td>\n",
       "      <td>Private</td>\n",
       "      <td>215646</td>\n",
       "      <td>HS-grad</td>\n",
       "      <td>9</td>\n",
       "      <td>Divorced</td>\n",
       "      <td>Handlers-cleaners</td>\n",
       "      <td>Not-in-family</td>\n",
       "      <td>White</td>\n",
       "      <td>Male</td>\n",
       "      <td>0</td>\n",
       "      <td>0</td>\n",
       "      <td>40</td>\n",
       "      <td>United-States</td>\n",
       "      <td>&lt;=50K</td>\n",
       "    </tr>\n",
       "    <tr>\n",
       "      <th>2</th>\n",
       "      <td>53</td>\n",
       "      <td>Private</td>\n",
       "      <td>234721</td>\n",
       "      <td>11th</td>\n",
       "      <td>7</td>\n",
       "      <td>Married-civ-spouse</td>\n",
       "      <td>Handlers-cleaners</td>\n",
       "      <td>Husband</td>\n",
       "      <td>Black</td>\n",
       "      <td>Male</td>\n",
       "      <td>0</td>\n",
       "      <td>0</td>\n",
       "      <td>40</td>\n",
       "      <td>United-States</td>\n",
       "      <td>&lt;=50K</td>\n",
       "    </tr>\n",
       "    <tr>\n",
       "      <th>3</th>\n",
       "      <td>28</td>\n",
       "      <td>Private</td>\n",
       "      <td>338409</td>\n",
       "      <td>Bachelors</td>\n",
       "      <td>13</td>\n",
       "      <td>Married-civ-spouse</td>\n",
       "      <td>Prof-specialty</td>\n",
       "      <td>Wife</td>\n",
       "      <td>Black</td>\n",
       "      <td>Female</td>\n",
       "      <td>0</td>\n",
       "      <td>0</td>\n",
       "      <td>40</td>\n",
       "      <td>Cuba</td>\n",
       "      <td>&lt;=50K</td>\n",
       "    </tr>\n",
       "    <tr>\n",
       "      <th>4</th>\n",
       "      <td>37</td>\n",
       "      <td>Private</td>\n",
       "      <td>284582</td>\n",
       "      <td>Masters</td>\n",
       "      <td>14</td>\n",
       "      <td>Married-civ-spouse</td>\n",
       "      <td>Exec-managerial</td>\n",
       "      <td>Wife</td>\n",
       "      <td>White</td>\n",
       "      <td>Female</td>\n",
       "      <td>0</td>\n",
       "      <td>0</td>\n",
       "      <td>40</td>\n",
       "      <td>United-States</td>\n",
       "      <td>&lt;=50K</td>\n",
       "    </tr>\n",
       "  </tbody>\n",
       "</table>\n",
       "</div>"
      ],
      "text/plain": [
       "   39          State-gov   77516   Bachelors   13        Never-married  \\\n",
       "0  50   Self-emp-not-inc   83311   Bachelors   13   Married-civ-spouse   \n",
       "1  38            Private  215646     HS-grad    9             Divorced   \n",
       "2  53            Private  234721        11th    7   Married-civ-spouse   \n",
       "3  28            Private  338409   Bachelors   13   Married-civ-spouse   \n",
       "4  37            Private  284582     Masters   14   Married-civ-spouse   \n",
       "\n",
       "         Adm-clerical   Not-in-family   White     Male   2174   0   40  \\\n",
       "0     Exec-managerial         Husband   White     Male      0   0   13   \n",
       "1   Handlers-cleaners   Not-in-family   White     Male      0   0   40   \n",
       "2   Handlers-cleaners         Husband   Black     Male      0   0   40   \n",
       "3      Prof-specialty            Wife   Black   Female      0   0   40   \n",
       "4     Exec-managerial            Wife   White   Female      0   0   40   \n",
       "\n",
       "    United-States   <=50K  \n",
       "0   United-States   <=50K  \n",
       "1   United-States   <=50K  \n",
       "2   United-States   <=50K  \n",
       "3            Cuba   <=50K  \n",
       "4   United-States   <=50K  "
      ]
     },
     "metadata": {},
     "output_type": "display_data"
    }
   ],
   "source": [
    "import random\n",
    "import numpy as np\n",
    "import pandas as pd\n",
    "import sqlite3\n",
    "from IPython.display import display\n",
    "\n",
    "adult_data_df = pd.read_csv('https://archive.ics.uci.edu/ml/machine-learning-databases/adult/adult.data')\n",
    "display(adult_data_df.head(5))"
   ]
  },
  {
   "cell_type": "code",
   "execution_count": 22,
   "metadata": {},
   "outputs": [
    {
     "data": {
      "text/html": [
       "<div>\n",
       "<style scoped>\n",
       "    .dataframe tbody tr th:only-of-type {\n",
       "        vertical-align: middle;\n",
       "    }\n",
       "\n",
       "    .dataframe tbody tr th {\n",
       "        vertical-align: top;\n",
       "    }\n",
       "\n",
       "    .dataframe thead th {\n",
       "        text-align: right;\n",
       "    }\n",
       "</style>\n",
       "<table border=\"1\" class=\"dataframe\">\n",
       "  <thead>\n",
       "    <tr style=\"text-align: right;\">\n",
       "      <th></th>\n",
       "      <th>Age</th>\n",
       "      <th>WorkClass</th>\n",
       "      <th>SomeNumer</th>\n",
       "      <th>Education</th>\n",
       "      <th>Education_Number</th>\n",
       "      <th>Marital_Status</th>\n",
       "      <th>Occupation</th>\n",
       "      <th>Relationship</th>\n",
       "      <th>Race</th>\n",
       "      <th>Sex</th>\n",
       "      <th>Capital_Gain</th>\n",
       "      <th>Capital_Loss</th>\n",
       "      <th>Hours_Per_Week</th>\n",
       "      <th>Native_Country</th>\n",
       "      <th>Income</th>\n",
       "    </tr>\n",
       "  </thead>\n",
       "  <tbody>\n",
       "    <tr>\n",
       "      <th>0</th>\n",
       "      <td>50</td>\n",
       "      <td>Self-emp-not-inc</td>\n",
       "      <td>83311</td>\n",
       "      <td>Bachelors</td>\n",
       "      <td>13</td>\n",
       "      <td>Married-civ-spouse</td>\n",
       "      <td>Exec-managerial</td>\n",
       "      <td>Husband</td>\n",
       "      <td>White</td>\n",
       "      <td>Male</td>\n",
       "      <td>0</td>\n",
       "      <td>0</td>\n",
       "      <td>13</td>\n",
       "      <td>United-States</td>\n",
       "      <td>&lt;=50K</td>\n",
       "    </tr>\n",
       "    <tr>\n",
       "      <th>1</th>\n",
       "      <td>38</td>\n",
       "      <td>Private</td>\n",
       "      <td>215646</td>\n",
       "      <td>HS-grad</td>\n",
       "      <td>9</td>\n",
       "      <td>Divorced</td>\n",
       "      <td>Handlers-cleaners</td>\n",
       "      <td>Not-in-family</td>\n",
       "      <td>White</td>\n",
       "      <td>Male</td>\n",
       "      <td>0</td>\n",
       "      <td>0</td>\n",
       "      <td>40</td>\n",
       "      <td>United-States</td>\n",
       "      <td>&lt;=50K</td>\n",
       "    </tr>\n",
       "    <tr>\n",
       "      <th>2</th>\n",
       "      <td>53</td>\n",
       "      <td>Private</td>\n",
       "      <td>234721</td>\n",
       "      <td>11th</td>\n",
       "      <td>7</td>\n",
       "      <td>Married-civ-spouse</td>\n",
       "      <td>Handlers-cleaners</td>\n",
       "      <td>Husband</td>\n",
       "      <td>Black</td>\n",
       "      <td>Male</td>\n",
       "      <td>0</td>\n",
       "      <td>0</td>\n",
       "      <td>40</td>\n",
       "      <td>United-States</td>\n",
       "      <td>&lt;=50K</td>\n",
       "    </tr>\n",
       "    <tr>\n",
       "      <th>3</th>\n",
       "      <td>28</td>\n",
       "      <td>Private</td>\n",
       "      <td>338409</td>\n",
       "      <td>Bachelors</td>\n",
       "      <td>13</td>\n",
       "      <td>Married-civ-spouse</td>\n",
       "      <td>Prof-specialty</td>\n",
       "      <td>Wife</td>\n",
       "      <td>Black</td>\n",
       "      <td>Female</td>\n",
       "      <td>0</td>\n",
       "      <td>0</td>\n",
       "      <td>40</td>\n",
       "      <td>Cuba</td>\n",
       "      <td>&lt;=50K</td>\n",
       "    </tr>\n",
       "    <tr>\n",
       "      <th>4</th>\n",
       "      <td>37</td>\n",
       "      <td>Private</td>\n",
       "      <td>284582</td>\n",
       "      <td>Masters</td>\n",
       "      <td>14</td>\n",
       "      <td>Married-civ-spouse</td>\n",
       "      <td>Exec-managerial</td>\n",
       "      <td>Wife</td>\n",
       "      <td>White</td>\n",
       "      <td>Female</td>\n",
       "      <td>0</td>\n",
       "      <td>0</td>\n",
       "      <td>40</td>\n",
       "      <td>United-States</td>\n",
       "      <td>&lt;=50K</td>\n",
       "    </tr>\n",
       "  </tbody>\n",
       "</table>\n",
       "</div>"
      ],
      "text/plain": [
       "   Age          WorkClass  SomeNumer   Education  Education_Number  \\\n",
       "0   50   Self-emp-not-inc      83311   Bachelors                13   \n",
       "1   38            Private     215646     HS-grad                 9   \n",
       "2   53            Private     234721        11th                 7   \n",
       "3   28            Private     338409   Bachelors                13   \n",
       "4   37            Private     284582     Masters                14   \n",
       "\n",
       "        Marital_Status          Occupation    Relationship    Race      Sex  \\\n",
       "0   Married-civ-spouse     Exec-managerial         Husband   White     Male   \n",
       "1             Divorced   Handlers-cleaners   Not-in-family   White     Male   \n",
       "2   Married-civ-spouse   Handlers-cleaners         Husband   Black     Male   \n",
       "3   Married-civ-spouse      Prof-specialty            Wife   Black   Female   \n",
       "4   Married-civ-spouse     Exec-managerial            Wife   White   Female   \n",
       "\n",
       "   Capital_Gain  Capital_Loss  Hours_Per_Week  Native_Country  Income  \n",
       "0             0             0              13   United-States   <=50K  \n",
       "1             0             0              40   United-States   <=50K  \n",
       "2             0             0              40   United-States   <=50K  \n",
       "3             0             0              40            Cuba   <=50K  \n",
       "4             0             0              40   United-States   <=50K  "
      ]
     },
     "execution_count": 22,
     "metadata": {},
     "output_type": "execute_result"
    }
   ],
   "source": [
    "adult_data_df.columns =[\"Age\",\"WorkClass\",\"SomeNumer\",\"Education\",\"Education_Number\",\"Marital_Status\"\n",
    "                ,\"Occupation\",\"Relationship\",\"Race\",\"Sex\",\"Capital_Gain\",\"Capital_Loss\",\"Hours_Per_Week\",\n",
    "                \"Native_Country\",\"Income\"]\n",
    "adult_data_df.head()"
   ]
  },
  {
   "cell_type": "markdown",
   "metadata": {},
   "source": [
    "# Q1. Create an sqlalchemy engine using a sample from the data set"
   ]
  },
  {
   "cell_type": "code",
   "execution_count": 28,
   "metadata": {},
   "outputs": [],
   "source": [
    "import sqlalchemy\n",
    "from sqlalchemy import create_engine\n",
    "engine = create_engine('sqlite:///sqladb', echo=False)\n",
    "adult_data_df.to_sql('sqladb', engine, if_exists='replace')\n",
    "\n",
    "connection  = sqlite3.connect(\"sqladb\")\n",
    "cursor = connection.cursor()"
   ]
  },
  {
   "cell_type": "markdown",
   "metadata": {},
   "source": [
    "# Q2. Write two basic update queries"
   ]
  },
  {
   "cell_type": "code",
   "execution_count": 29,
   "metadata": {},
   "outputs": [
    {
     "data": {
      "text/plain": [
       "<sqlite3.Cursor at 0x7f6b648ac420>"
      ]
     },
     "execution_count": 29,
     "metadata": {},
     "output_type": "execute_result"
    }
   ],
   "source": [
    "cursor.execute('UPDATE sqladb SET Education = \"Higher Secondary\" WHERE Education like \"%11th%\"')\n"
   ]
  },
  {
   "cell_type": "code",
   "execution_count": 30,
   "metadata": {},
   "outputs": [
    {
     "data": {
      "text/plain": [
       "<sqlite3.Cursor at 0x7f6b648ac420>"
      ]
     },
     "execution_count": 30,
     "metadata": {},
     "output_type": "execute_result"
    }
   ],
   "source": [
    "cursor.execute('UPDATE sqladb SET Relationship = \"No Fimily\" WHERE Relationship like \"%Not%in%family%\"')\n"
   ]
  },
  {
   "cell_type": "code",
   "execution_count": 31,
   "metadata": {},
   "outputs": [
    {
     "name": "stdout",
     "output_type": "stream",
     "text": [
      "   index  Age WorkClass  SomeNumer         Education  Education_Number  \\\n",
      "0      2   53   Private     234721  Higher Secondary                 7   \n",
      "1     17   38   Private      28887  Higher Secondary                 7   \n",
      "2     22   43   Private     117037  Higher Secondary                 7   \n",
      "3     34   48   Private     242406  Higher Secondary                 7   \n",
      "4     77   18   Private     309634  Higher Secondary                 7   \n",
      "\n",
      "        Marital_Status          Occupation Relationship    Race      Sex  \\\n",
      "0   Married-civ-spouse   Handlers-cleaners      Husband   Black     Male   \n",
      "1   Married-civ-spouse               Sales      Husband   White     Male   \n",
      "2   Married-civ-spouse    Transport-moving      Husband   White     Male   \n",
      "3        Never-married   Machine-op-inspct    Unmarried   White     Male   \n",
      "4        Never-married       Other-service    Own-child   White   Female   \n",
      "\n",
      "   Capital_Gain  Capital_Loss  Hours_Per_Week  Native_Country  Income  \n",
      "0             0             0              40   United-States   <=50K  \n",
      "1             0             0              50   United-States   <=50K  \n",
      "2             0          2042              40   United-States   <=50K  \n",
      "3             0             0              40     Puerto-Rico   <=50K  \n",
      "4             0             0              22   United-States   <=50K  \n"
     ]
    }
   ],
   "source": [
    "print(pd.read_sql_query('SELECT * FROM sqladb where Education = \"Higher Secondary\"', connection).head(5))"
   ]
  },
  {
   "cell_type": "markdown",
   "metadata": {},
   "source": [
    "# Q3. Write two delete queries"
   ]
  },
  {
   "cell_type": "code",
   "execution_count": 32,
   "metadata": {},
   "outputs": [
    {
     "data": {
      "text/plain": [
       "<sqlite3.Cursor at 0x7f6b648ac420>"
      ]
     },
     "execution_count": 32,
     "metadata": {},
     "output_type": "execute_result"
    }
   ],
   "source": [
    "cursor.execute('Delete from sqladb where  Education = \"Higher Secondary\" and  Relationship=\"NA\"')#Delete-1"
   ]
  },
  {
   "cell_type": "code",
   "execution_count": 33,
   "metadata": {},
   "outputs": [
    {
     "data": {
      "text/plain": [
       "<sqlite3.Cursor at 0x7f6b648ac420>"
      ]
     },
     "execution_count": 33,
     "metadata": {},
     "output_type": "execute_result"
    }
   ],
   "source": [
    "cursor.execute('Delete from sqladb where  Age = 50 and  Race=\"White\"')#Delete-2"
   ]
  },
  {
   "cell_type": "code",
   "execution_count": 34,
   "metadata": {},
   "outputs": [
    {
     "name": "stdout",
     "output_type": "stream",
     "text": [
      "   index  Age          WorkClass  SomeNumer         Education  \\\n",
      "0      0   50   Self-emp-not-inc      83311         Bachelors   \n",
      "1      1   38            Private     215646           HS-grad   \n",
      "2      2   53            Private     234721  Higher Secondary   \n",
      "3      3   28            Private     338409         Bachelors   \n",
      "4      4   37            Private     284582           Masters   \n",
      "\n",
      "   Education_Number       Marital_Status          Occupation Relationship  \\\n",
      "0                13   Married-civ-spouse     Exec-managerial      Husband   \n",
      "1                 9             Divorced   Handlers-cleaners    No Fimily   \n",
      "2                 7   Married-civ-spouse   Handlers-cleaners      Husband   \n",
      "3                13   Married-civ-spouse      Prof-specialty         Wife   \n",
      "4                14   Married-civ-spouse     Exec-managerial         Wife   \n",
      "\n",
      "     Race      Sex  Capital_Gain  Capital_Loss  Hours_Per_Week  \\\n",
      "0   White     Male             0             0              13   \n",
      "1   White     Male             0             0              40   \n",
      "2   Black     Male             0             0              40   \n",
      "3   Black   Female             0             0              40   \n",
      "4   White   Female             0             0              40   \n",
      "\n",
      "   Native_Country  Income  \n",
      "0   United-States   <=50K  \n",
      "1   United-States   <=50K  \n",
      "2   United-States   <=50K  \n",
      "3            Cuba   <=50K  \n",
      "4   United-States   <=50K  \n"
     ]
    }
   ],
   "source": [
    "print(pd.read_sql_query(\"SELECT * FROM sqladb \", connection).head(5))"
   ]
  },
  {
   "cell_type": "markdown",
   "metadata": {},
   "source": [
    "# Q4. Write two filter queries"
   ]
  },
  {
   "cell_type": "code",
   "execution_count": 39,
   "metadata": {},
   "outputs": [
    {
     "name": "stdout",
     "output_type": "stream",
     "text": [
      "[(0, 50, ' Self-emp-not-inc', 83311, ' Bachelors', 13, ' Married-civ-spouse', ' Exec-managerial', ' Husband', ' White', ' Male', 0, 0, 13, ' United-States', ' <=50K'), (1, 38, ' Private', 215646, ' HS-grad', 9, ' Divorced', ' Handlers-cleaners', 'No Fimily', ' White', ' Male', 0, 0, 40, ' United-States', ' <=50K'), (3, 28, ' Private', 338409, ' Bachelors', 13, ' Married-civ-spouse', ' Prof-specialty', ' Wife', ' Black', ' Female', 0, 0, 40, ' Cuba', ' <=50K'), (4, 37, ' Private', 284582, ' Masters', 14, ' Married-civ-spouse', ' Exec-managerial', ' Wife', ' White', ' Female', 0, 0, 40, ' United-States', ' <=50K'), (5, 49, ' Private', 160187, ' 9th', 5, ' Married-spouse-absent', ' Other-service', 'No Fimily', ' Black', ' Female', 0, 0, 16, ' Jamaica', ' <=50K'), (6, 52, ' Self-emp-not-inc', 209642, ' HS-grad', 9, ' Married-civ-spouse', ' Exec-managerial', ' Husband', ' White', ' Male', 0, 0, 45, ' United-States', ' >50K'), (7, 31, ' Private', 45781, ' Masters', 14, ' Never-married', ' Prof-specialty', 'No Fimily', ' White', ' Female', 14084, 0, 50, ' United-States', ' >50K'), (8, 42, ' Private', 159449, ' Bachelors', 13, ' Married-civ-spouse', ' Exec-managerial', ' Husband', ' White', ' Male', 5178, 0, 40, ' United-States', ' >50K'), (9, 37, ' Private', 280464, ' Some-college', 10, ' Married-civ-spouse', ' Exec-managerial', ' Husband', ' Black', ' Male', 0, 0, 80, ' United-States', ' >50K'), (10, 30, ' State-gov', 141297, ' Bachelors', 13, ' Married-civ-spouse', ' Prof-specialty', ' Husband', ' Asian-Pac-Islander', ' Male', 0, 0, 40, ' India', ' >50K')]\n"
     ]
    }
   ],
   "source": [
    "cursor.execute('select * from sqladb where  Education != \"Higher Secondary\" limit 10')#Filter-1\n",
    "output = cursor.fetchall()\n",
    "print(output)"
   ]
  },
  {
   "cell_type": "code",
   "execution_count": 40,
   "metadata": {},
   "outputs": [
    {
     "name": "stdout",
     "output_type": "stream",
     "text": [
      "[(0, 50, ' Self-emp-not-inc', 83311, ' Bachelors', 13, ' Married-civ-spouse', ' Exec-managerial', ' Husband', ' White', ' Male', 0, 0, 13, ' United-States', ' <=50K'), (52, 50, ' Federal-gov', 251585, ' Bachelors', 13, ' Divorced', ' Exec-managerial', 'No Fimily', ' White', ' Male', 0, 0, 55, ' United-States', ' >50K'), (215, 50, ' Private', 313321, ' Assoc-acdm', 12, ' Divorced', ' Sales', 'No Fimily', ' White', ' Female', 0, 0, 40, ' United-States', ' <=50K'), (258, 50, ' Private', 204518, ' 7th-8th', 4, ' Divorced', ' Craft-repair', 'No Fimily', ' White', ' Male', 0, 0, 40, ' United-States', ' <=50K'), (271, 50, ' Self-emp-not-inc', 30653, ' Masters', 14, ' Married-civ-spouse', ' Farming-fishing', ' Husband', ' White', ' Male', 2407, 0, 98, ' United-States', ' <=50K'), (286, 50, ' Private', 176609, ' Some-college', 10, ' Divorced', ' Other-service', 'No Fimily', ' White', ' Male', 0, 0, 45, ' United-States', ' <=50K'), (288, 50, ' Private', 193884, ' 7th-8th', 4, ' Married-civ-spouse', ' Craft-repair', ' Husband', ' White', ' Male', 0, 0, 40, ' Ecuador', ' <=50K'), (401, 50, ' State-gov', 288353, ' Bachelors', 13, ' Married-civ-spouse', ' Protective-serv', ' Husband', ' White', ' Male', 0, 0, 40, ' United-States', ' >50K'), (462, 50, ' Private', 193374, ' 1st-4th', 2, ' Married-spouse-absent', ' Craft-repair', ' Unmarried', ' White', ' Male', 0, 0, 40, ' United-States', ' <=50K'), (520, 50, ' Private', 196232, ' HS-grad', 9, ' Married-civ-spouse', ' Exec-managerial', ' Husband', ' White', ' Male', 7688, 0, 50, ' United-States', ' >50K'), (616, 50, ' Self-emp-not-inc', 114117, ' HS-grad', 9, ' Married-civ-spouse', ' Exec-managerial', ' Husband', ' White', ' Male', 0, 0, 32, ' United-States', ' <=50K'), (644, 50, ' Self-emp-inc', 195322, ' Doctorate', 16, ' Separated', ' Prof-specialty', 'No Fimily', ' White', ' Male', 0, 0, 40, ' United-States', ' >50K'), (673, 50, ' Self-emp-inc', 219420, ' HS-grad', 9, ' Married-civ-spouse', ' Sales', ' Husband', ' White', ' Male', 0, 0, 50, ' United-States', ' >50K'), (722, 50, ' Local-gov', 50459, ' HS-grad', 9, ' Married-civ-spouse', ' Exec-managerial', ' Husband', ' White', ' Male', 0, 0, 42, ' United-States', ' >50K'), (805, 50, ' ?', 23780, ' Masters', 14, ' Married-spouse-absent', ' ?', ' Other-relative', ' White', ' Male', 0, 0, 40, ' United-States', ' <=50K'), (991, 50, ' Self-emp-not-inc', 124793, ' HS-grad', 9, ' Married-civ-spouse', ' Craft-repair', ' Husband', ' White', ' Male', 0, 0, 30, ' United-States', ' <=50K'), (1000, 50, ' Private', 168212, ' Doctorate', 16, ' Married-civ-spouse', ' Prof-specialty', ' Husband', ' White', ' Male', 0, 1902, 65, ' United-States', ' >50K'), (1011, 50, ' Private', 767403, ' HS-grad', 9, ' Married-civ-spouse', ' Machine-op-inspct', ' Husband', ' White', ' Male', 3103, 0, 40, ' United-States', ' >50K'), (1148, 50, ' Self-emp-inc', 293196, ' HS-grad', 9, ' Married-civ-spouse', ' Exec-managerial', ' Husband', ' White', ' Male', 7298, 0, 40, ' United-States', ' >50K'), (1163, 50, ' Private', 133963, ' Bachelors', 13, ' Married-civ-spouse', ' Prof-specialty', ' Wife', ' White', ' Female', 0, 1977, 40, ' United-States', ' >50K'), (1170, 50, ' Private', 157043, 'Higher Secondary', 7, ' Divorced', ' Other-service', 'No Fimily', ' Black', ' Female', 0, 0, 40, ' United-States', ' <=50K'), (1176, 50, ' State-gov', 356619, ' HS-grad', 9, ' Married-civ-spouse', ' Prof-specialty', ' Husband', ' White', ' Male', 0, 0, 48, ' United-States', ' >50K'), (1179, 50, ' ?', 146015, ' HS-grad', 9, ' Married-civ-spouse', ' ?', ' Husband', ' White', ' Male', 0, 0, 40, ' United-States', ' >50K'), (1198, 50, ' Private', 75472, ' HS-grad', 9, ' Married-civ-spouse', ' Craft-repair', ' Husband', ' White', ' Male', 4386, 0, 40, ' ?', ' <=50K'), (1227, 50, ' Private', 358740, ' HS-grad', 9, ' Divorced', ' Adm-clerical', ' Unmarried', ' White', ' Female', 0, 0, 40, ' England', ' <=50K'), (1266, 50, ' Self-emp-not-inc', 343748, ' Some-college', 10, ' Married-civ-spouse', ' Craft-repair', ' Husband', ' White', ' Male', 0, 0, 35, ' United-States', ' <=50K'), (1283, 50, ' Private', 88926, ' HS-grad', 9, ' Married-civ-spouse', ' Adm-clerical', ' Wife', ' White', ' Female', 5178, 0, 40, ' United-States', ' >50K'), (1288, 50, ' Private', 421132, ' HS-grad', 9, ' Married-civ-spouse', ' Craft-repair', ' Husband', ' White', ' Male', 0, 0, 40, ' United-States', ' <=50K'), (1398, 50, ' Private', 137815, ' HS-grad', 9, ' Married-civ-spouse', ' Transport-moving', ' Husband', ' White', ' Male', 0, 0, 60, ' United-States', ' >50K'), (1401, 50, ' Private', 113176, ' HS-grad', 9, ' Divorced', ' Adm-clerical', 'No Fimily', ' White', ' Female', 0, 0, 40, ' United-States', ' <=50K'), (1439, 50, ' Self-emp-inc', 175339, ' HS-grad', 9, ' Married-civ-spouse', ' Craft-repair', ' Husband', ' White', ' Male', 0, 1672, 60, ' United-States', ' <=50K'), (1444, 50, ' Private', 30447, ' Assoc-voc', 11, ' Married-civ-spouse', ' Transport-moving', ' Husband', ' White', ' Male', 0, 0, 45, ' United-States', ' <=50K'), (1533, 50, ' Private', 73493, ' Some-college', 10, ' Divorced', ' Other-service', 'No Fimily', ' White', ' Female', 0, 0, 40, ' United-States', ' <=50K'), (1608, 50, ' Private', 21095, ' Some-college', 10, ' Divorced', ' Other-service', ' Unmarried', ' Asian-Pac-Islander', ' Male', 0, 0, 40, ' Philippines', ' <=50K'), (1665, 50, ' Self-emp-inc', 160151, ' Some-college', 10, ' Married-civ-spouse', ' Sales', ' Husband', ' White', ' Male', 0, 0, 60, ' United-States', ' >50K'), (1682, 50, ' Private', 140592, ' HS-grad', 9, ' Married-civ-spouse', ' Machine-op-inspct', ' Wife', ' White', ' Female', 0, 0, 40, ' United-States', ' <=50K'), (1741, 50, ' Private', 196963, ' 7th-8th', 4, ' Divorced', ' Craft-repair', 'No Fimily', ' White', ' Female', 0, 0, 30, ' United-States', ' <=50K'), (1770, 50, ' Private', 171338, ' Some-college', 10, ' Married-civ-spouse', ' Exec-managerial', ' Husband', ' White', ' Male', 99999, 0, 50, ' United-States', ' >50K'), (1797, 50, ' Federal-gov', 159670, ' HS-grad', 9, ' Married-civ-spouse', ' Adm-clerical', ' Husband', ' White', ' Male', 0, 0, 40, ' United-States', ' >50K'), (1804, 50, ' State-gov', 211319, ' Masters', 14, ' Never-married', ' Prof-specialty', 'No Fimily', ' White', ' Male', 0, 0, 38, ' United-States', ' <=50K'), (1930, 50, ' ?', 156008, 'Higher Secondary', 7, ' Married-civ-spouse', ' ?', ' Own-child', ' Black', ' Female', 0, 0, 40, ' United-States', ' <=50K'), (1937, 50, ' State-gov', 159219, ' Bachelors', 13, ' Married-civ-spouse', ' Exec-managerial', ' Husband', ' White', ' Male', 0, 0, 40, ' Canada', ' >50K'), (1961, 50, ' Private', 147629, ' Masters', 14, ' Married-civ-spouse', ' Prof-specialty', ' Husband', ' White', ' Male', 15024, 0, 45, ' United-States', ' >50K'), (1992, 50, ' Private', 112351, ' HS-grad', 9, ' Divorced', ' Exec-managerial', ' Unmarried', ' White', ' Male', 0, 0, 38, ' United-States', ' <=50K'), (2036, 50, ' Private', 176924, ' 10th', 6, ' Married-civ-spouse', ' Craft-repair', ' Husband', ' White', ' Male', 0, 0, 38, ' United-States', ' <=50K'), (2189, 50, ' Private', 156877, 'Higher Secondary', 7, ' Married-civ-spouse', ' Transport-moving', ' Husband', ' White', ' Male', 0, 0, 70, ' United-States', ' >50K'), (2197, 50, ' Private', 137253, ' Bachelors', 13, ' Married-civ-spouse', ' Adm-clerical', ' Wife', ' White', ' Female', 0, 0, 40, ' United-States', ' >50K'), (2412, 50, ' Private', 181139, ' Some-college', 10, ' Never-married', ' Farming-fishing', 'No Fimily', ' White', ' Male', 0, 0, 40, ' United-States', ' <=50K'), (2469, 50, ' Federal-gov', 20179, ' Masters', 14, ' Married-civ-spouse', ' Tech-support', ' Husband', ' White', ' Male', 0, 0, 40, ' United-States', ' >50K'), (2494, 50, ' Private', 88842, ' Bachelors', 13, ' Married-civ-spouse', ' Transport-moving', ' Husband', ' White', ' Male', 7298, 0, 40, ' United-States', ' >50K'), (2589, 50, ' Private', 221336, ' HS-grad', 9, ' Divorced', ' Adm-clerical', ' Other-relative', ' Asian-Pac-Islander', ' Female', 0, 0, 40, ' Philippines', ' <=50K'), (2646, 50, ' Private', 273536, ' 7th-8th', 4, ' Married-civ-spouse', ' Sales', ' Husband', ' Other', ' Male', 0, 0, 49, ' Dominican-Republic', ' <=50K'), (2697, 50, ' Self-emp-not-inc', 174752, ' HS-grad', 9, ' Divorced', ' Farming-fishing', 'No Fimily', ' White', ' Male', 0, 0, 40, ' United-States', ' <=50K'), (2709, 50, ' Private', 92079, ' Some-college', 10, ' Married-civ-spouse', ' Tech-support', ' Husband', ' White', ' Male', 0, 0, 45, ' United-States', ' >50K'), (2814, 50, ' Private', 237735, ' 5th-6th', 3, ' Married-civ-spouse', ' Transport-moving', ' Husband', ' White', ' Male', 0, 0, 37, ' Mexico', ' <=50K'), (2844, 50, ' Private', 121685, ' Some-college', 10, ' Married-civ-spouse', ' Sales', ' Husband', ' White', ' Male', 0, 0, 45, ' United-States', ' >50K'), (2934, 50, ' Local-gov', 177705, ' Some-college', 10, ' Married-civ-spouse', ' Adm-clerical', ' Husband', ' White', ' Male', 0, 1740, 48, ' United-States', ' <=50K'), (3039, 50, ' Local-gov', 125417, ' Prof-school', 15, ' Never-married', ' Exec-managerial', 'No Fimily', ' Black', ' Female', 0, 0, 52, ' United-States', ' >50K'), (3203, 50, ' Self-emp-inc', 100029, ' Bachelors', 13, ' Widowed', ' Sales', ' Unmarried', ' White', ' Male', 0, 0, 65, ' United-States', ' >50K'), (3304, 50, ' Self-emp-not-inc', 391016, ' Bachelors', 13, ' Divorced', ' Exec-managerial', 'No Fimily', ' White', ' Male', 0, 0, 30, ' United-States', ' <=50K'), (3395, 50, ' State-gov', 198103, ' Bachelors', 13, ' Never-married', ' Exec-managerial', 'No Fimily', ' White', ' Female', 0, 0, 40, ' United-States', ' <=50K'), (3429, 50, ' Self-emp-not-inc', 363405, ' Bachelors', 13, ' Married-civ-spouse', ' Tech-support', ' Wife', ' White', ' Female', 0, 0, 50, ' United-States', ' >50K'), (3434, 50, ' Private', 93690, ' HS-grad', 9, ' Married-civ-spouse', ' Transport-moving', ' Husband', ' White', ' Male', 0, 0, 40, ' United-States', ' >50K'), (3447, 50, ' Self-emp-not-inc', 44368, ' HS-grad', 9, ' Married-civ-spouse', ' Sales', ' Husband', ' White', ' Male', 15024, 0, 55, ' El-Salvador', ' >50K'), (3466, 50, ' Private', 170050, ' 7th-8th', 4, ' Married-civ-spouse', ' Machine-op-inspct', ' Husband', ' White', ' Male', 0, 0, 40, ' United-States', ' <=50K'), (3468, 50, ' Private', 400004, ' Some-college', 10, ' Married-civ-spouse', ' Sales', ' Husband', ' White', ' Male', 0, 0, 60, ' United-States', ' <=50K'), (3725, 50, ' Private', 217083, ' HS-grad', 9, ' Married-civ-spouse', ' Adm-clerical', ' Wife', ' White', ' Female', 0, 0, 40, ' United-States', ' >50K'), (3863, 50, ' State-gov', 229272, ' HS-grad', 9, ' Married-civ-spouse', ' Craft-repair', ' Husband', ' Black', ' Male', 0, 0, 40, ' United-States', ' >50K'), (3892, 50, ' Federal-gov', 176969, ' HS-grad', 9, ' Divorced', ' Prof-specialty', 'No Fimily', ' White', ' Male', 0, 1590, 40, ' United-States', ' <=50K'), (3923, 50, ' Private', 116287, ' Assoc-acdm', 12, ' Married-civ-spouse', ' Adm-clerical', ' Husband', ' White', ' Male', 0, 0, 60, ' Columbia', ' <=50K'), (3977, 50, ' Self-emp-not-inc', 386397, ' Bachelors', 13, ' Married-civ-spouse', ' Sales', ' Husband', ' White', ' Male', 0, 0, 60, ' United-States', ' <=50K'), (3981, 50, ' Private', 139464, ' Bachelors', 13, ' Divorced', ' Prof-specialty', ' Unmarried', ' White', ' Female', 0, 0, 36, ' Ireland', ' <=50K'), (4046, 50, ' Private', 163708, ' HS-grad', 9, ' Widowed', ' Other-service', ' Unmarried', ' White', ' Female', 0, 0, 40, ' United-States', ' <=50K'), (4054, 50, ' Self-emp-inc', 156623, ' Prof-school', 15, ' Married-civ-spouse', ' Prof-specialty', ' Husband', ' Asian-Pac-Islander', ' Male', 7688, 0, 50, ' Philippines', ' >50K'), (4085, 50, ' ?', 174964, ' 10th', 6, ' Married-civ-spouse', ' ?', ' Husband', ' White', ' Male', 0, 0, 99, ' United-States', ' <=50K'), (4116, 50, ' Private', 144968, ' HS-grad', 9, ' Never-married', ' Tech-support', ' Own-child', ' White', ' Male', 0, 0, 15, ' United-States', ' <=50K'), (4170, 50, ' Local-gov', 169182, ' HS-grad', 9, ' Divorced', ' Other-service', ' Unmarried', ' White', ' Female', 0, 0, 49, ' Dominican-Republic', ' <=50K'), (4355, 50, ' Federal-gov', 36489, ' Some-college', 10, ' Divorced', ' Exec-managerial', ' Unmarried', ' White', ' Male', 0, 0, 40, ' United-States', ' <=50K'), (4473, 50, ' Self-emp-not-inc', 146603, ' Prof-school', 15, ' Married-civ-spouse', ' Prof-specialty', ' Husband', ' White', ' Male', 0, 0, 40, ' United-States', ' >50K'), (4494, 50, ' State-gov', 103063, ' Bachelors', 13, ' Married-civ-spouse', ' Exec-managerial', ' Husband', ' White', ' Male', 0, 0, 40, ' United-States', ' >50K'), (4544, 50, ' Private', 125417, ' Assoc-acdm', 12, ' Married-civ-spouse', ' Exec-managerial', ' Wife', ' Black', ' Female', 0, 0, 40, ' United-States', ' >50K'), (4667, 50, ' Private', 162632, ' HS-grad', 9, ' Married-civ-spouse', ' Exec-managerial', ' Husband', ' White', ' Male', 0, 0, 45, ' United-States', ' <=50K'), (4753, 50, ' Self-emp-inc', 174855, ' HS-grad', 9, ' Divorced', ' Exec-managerial', ' Unmarried', ' White', ' Female', 0, 0, 40, ' United-States', ' <=50K'), (4800, 50, ' ?', 22428, ' Masters', 14, ' Never-married', ' ?', 'No Fimily', ' White', ' Male', 0, 0, 40, ' United-States', ' <=50K'), (4873, 50, ' Private', 184424, ' Some-college', 10, ' Married-civ-spouse', ' Adm-clerical', ' Wife', ' White', ' Female', 0, 1902, 38, ' United-States', ' >50K'), (5033, 50, ' Self-emp-not-inc', 175456, ' HS-grad', 9, ' Married-civ-spouse', ' Farming-fishing', ' Husband', ' White', ' Male', 0, 0, 50, ' United-States', ' <=50K'), (5120, 50, ' Private', 71417, ' HS-grad', 9, ' Married-civ-spouse', ' Craft-repair', ' Husband', ' White', ' Male', 3103, 0, 40, ' United-States', ' >50K'), (5226, 50, ' Local-gov', 186888, ' HS-grad', 9, ' Married-civ-spouse', ' Exec-managerial', ' Wife', ' Black', ' Female', 0, 0, 40, ' United-States', ' >50K'), (5240, 50, ' Private', 207367, ' Some-college', 10, ' Married-spouse-absent', ' Other-service', 'No Fimily', ' White', ' Female', 0, 0, 40, ' Cuba', ' <=50K'), (5242, 50, ' Private', 202296, ' Assoc-voc', 11, ' Separated', ' Prof-specialty', ' Unmarried', ' White', ' Female', 0, 0, 40, ' United-States', ' <=50K'), (5273, 50, ' Private', 343847, ' HS-grad', 9, ' Married-civ-spouse', ' Protective-serv', ' Husband', ' White', ' Male', 0, 0, 38, ' United-States', ' >50K'), (5399, 50, ' Self-emp-inc', 127315, ' Bachelors', 13, ' Married-civ-spouse', ' Exec-managerial', ' Husband', ' White', ' Male', 15024, 0, 60, ' United-States', ' >50K'), (5412, 50, ' Local-gov', 117791, ' HS-grad', 9, ' Divorced', ' Adm-clerical', 'No Fimily', ' White', ' Female', 0, 0, 40, ' United-States', ' <=50K'), (5539, 50, ' Private', 128378, ' 5th-6th', 3, ' Married-civ-spouse', ' Handlers-cleaners', ' Husband', ' White', ' Male', 0, 0, 55, ' ?', ' <=50K'), (5652, 50, ' Private', 96586, ' Assoc-voc', 11, ' Married-civ-spouse', ' Other-service', ' Husband', ' White', ' Male', 0, 0, 40, ' United-States', ' <=50K'), (5755, 50, ' Private', 69345, ' Assoc-voc', 11, ' Married-civ-spouse', ' Transport-moving', ' Husband', ' White', ' Male', 3103, 0, 55, ' United-States', ' >50K'), (5766, 50, ' Private', 123429, ' Some-college', 10, ' Married-civ-spouse', ' Craft-repair', ' Husband', ' White', ' Male', 0, 0, 40, ' United-States', ' >50K'), (5840, 50, ' Private', 196193, ' Masters', 14, ' Married-spouse-absent', ' Prof-specialty', ' Other-relative', ' White', ' Male', 0, 0, 60, ' ?', ' <=50K'), (5868, 50, ' Private', 86373, ' HS-grad', 9, ' Married-civ-spouse', ' Machine-op-inspct', ' Husband', ' White', ' Male', 0, 0, 50, ' United-States', ' <=50K'), (6006, 50, ' Private', 100109, ' Bachelors', 13, ' Divorced', ' Exec-managerial', ' Unmarried', ' White', ' Male', 0, 0, 45, ' United-States', ' >50K'), (6180, 50, ' Private', 178530, ' Prof-school', 15, ' Married-civ-spouse', ' Prof-specialty', ' Husband', ' White', ' Male', 0, 0, 60, ' United-States', ' >50K'), (6202, 50, ' Private', 182360, ' HS-grad', 9, ' Separated', ' Prof-specialty', ' Unmarried', ' Other', ' Female', 0, 0, 60, ' Puerto-Rico', ' <=50K'), (6290, 50, ' Private', 95469, ' HS-grad', 9, ' Married-civ-spouse', ' Adm-clerical', ' Husband', ' White', ' Male', 7298, 0, 45, ' United-States', ' >50K'), (6296, 50, ' Local-gov', 138358, ' Some-college', 10, ' Separated', ' Other-service', ' Unmarried', ' Black', ' Female', 0, 0, 28, ' United-States', ' <=50K'), (6312, 50, ' Private', 279129, ' Bachelors', 13, ' Divorced', ' Exec-managerial', 'No Fimily', ' White', ' Male', 0, 0, 55, ' United-States', ' >50K'), (6348, 50, ' Local-gov', 145166, ' Masters', 14, ' Married-civ-spouse', ' Prof-specialty', ' Husband', ' White', ' Male', 7298, 0, 40, ' United-States', ' >50K'), (6364, 50, ' Local-gov', 370733, ' HS-grad', 9, ' Married-civ-spouse', ' Adm-clerical', ' Husband', ' Black', ' Male', 0, 0, 40, ' United-States', ' <=50K'), (6374, 50, ' Self-emp-not-inc', 105010, ' HS-grad', 9, ' Married-civ-spouse', ' Farming-fishing', ' Husband', ' White', ' Male', 0, 2051, 20, ' United-States', ' <=50K'), (6491, 50, ' Self-emp-inc', 321822, ' Prof-school', 15, ' Married-civ-spouse', ' Prof-specialty', ' Husband', ' White', ' Male', 0, 0, 75, ' United-States', ' >50K'), (6492, 50, ' Self-emp-not-inc', 324506, ' HS-grad', 9, ' Widowed', ' Exec-managerial', ' Unmarried', ' Asian-Pac-Islander', ' Female', 0, 0, 48, ' South', ' <=50K'), (6905, 50, ' Private', 140516, ' HS-grad', 9, ' Married-civ-spouse', ' Protective-serv', ' Husband', ' White', ' Male', 0, 0, 40, ' United-States', ' >50K'), (6962, 50, ' Local-gov', 173224, ' Masters', 14, ' Married-civ-spouse', ' Prof-specialty', ' Wife', ' White', ' Female', 0, 0, 40, ' United-States', ' <=50K'), (7022, 50, ' Private', 400630, ' Prof-school', 15, ' Married-civ-spouse', ' Prof-specialty', ' Husband', ' White', ' Male', 0, 0, 36, ' United-States', ' >50K'), (7054, 50, ' Private', 133963, ' HS-grad', 9, ' Divorced', ' Adm-clerical', ' Unmarried', ' White', ' Female', 0, 0, 35, ' United-States', ' <=50K'), (7073, 50, ' Private', 44368, ' Some-college', 10, ' Married-civ-spouse', ' Exec-managerial', ' Husband', ' White', ' Male', 0, 0, 40, ' United-States', ' <=50K'), (7087, 50, ' Self-emp-inc', 287598, ' Some-college', 10, ' Married-civ-spouse', ' Craft-repair', ' Husband', ' White', ' Male', 0, 0, 70, ' United-States', ' <=50K'), (7238, 50, ' Private', 121038, ' Assoc-voc', 11, ' Married-civ-spouse', ' Other-service', ' Wife', ' Black', ' Female', 0, 0, 40, ' United-States', ' <=50K'), (7262, 50, ' Federal-gov', 69345, ' Assoc-acdm', 12, ' Married-civ-spouse', ' Exec-managerial', ' Husband', ' White', ' Male', 0, 0, 60, ' United-States', ' <=50K'), (7299, 50, ' Private', 92969, ' 1st-4th', 2, ' Separated', ' Prof-specialty', ' Unmarried', ' Black', ' Female', 0, 0, 40, ' United-States', ' <=50K'), (7382, 50, ' Private', 144361, ' HS-grad', 9, ' Married-civ-spouse', ' Machine-op-inspct', ' Husband', ' White', ' Male', 0, 0, 50, ' United-States', ' >50K'), (7389, 50, ' Private', 378747, ' HS-grad', 9, ' Married-civ-spouse', ' Transport-moving', ' Husband', ' Black', ' Male', 0, 0, 40, ' United-States', ' <=50K'), (7394, 50, ' Self-emp-not-inc', 36480, ' 10th', 6, ' Divorced', ' Craft-repair', 'No Fimily', ' White', ' Male', 0, 0, 45, ' United-States', ' <=50K'), (7517, 50, ' Private', 200618, ' Assoc-acdm', 12, ' Divorced', ' Craft-repair', 'No Fimily', ' White', ' Male', 0, 0, 40, ' United-States', ' <=50K'), (7539, 50, ' Self-emp-not-inc', 170562, ' Assoc-acdm', 12, ' Married-civ-spouse', ' Protective-serv', ' Husband', ' White', ' Male', 0, 0, 20, ' United-States', ' <=50K'), (7600, 50, ' Private', 110748, ' Some-college', 10, ' Never-married', ' Prof-specialty', 'No Fimily', ' White', ' Male', 0, 0, 40, ' United-States', ' <=50K'), (7625, 50, ' Private', 305319, ' 7th-8th', 4, ' Married-civ-spouse', ' Craft-repair', ' Husband', ' White', ' Male', 0, 0, 40, ' United-States', ' <=50K'), (7717, 50, ' Private', 195298, ' Some-college', 10, ' Married-civ-spouse', ' Exec-managerial', ' Husband', ' White', ' Male', 0, 0, 50, ' United-States', ' >50K'), (7756, 50, ' Private', 159650, ' Some-college', 10, ' Married-civ-spouse', ' Tech-support', ' Husband', ' White', ' Male', 0, 0, 60, ' United-States', ' >50K'), (7868, 50, ' Federal-gov', 69614, ' 10th', 6, ' Separated', ' Craft-repair', 'No Fimily', ' White', ' Male', 0, 0, 56, ' United-States', ' <=50K'), (7903, 50, ' Self-emp-inc', 198400, ' HS-grad', 9, ' Married-civ-spouse', ' Sales', ' Husband', ' Black', ' Male', 0, 0, 60, ' United-States', ' <=50K'), (7944, 50, ' Private', 104729, ' HS-grad', 9, ' Divorced', ' Machine-op-inspct', ' Other-relative', ' White', ' Female', 0, 0, 48, ' United-States', ' <=50K'), (7957, 50, ' Local-gov', 133963, ' Bachelors', 13, ' Never-married', ' Prof-specialty', ' Own-child', ' White', ' Female', 0, 0, 40, ' United-States', ' >50K'), (7969, 50, ' Self-emp-not-inc', 348099, ' 10th', 6, ' Divorced', ' Sales', 'No Fimily', ' White', ' Female', 0, 0, 50, ' United-States', ' <=50K'), (7982, 50, ' Private', 192982, ' HS-grad', 9, ' Married-civ-spouse', ' Tech-support', ' Husband', ' White', ' Male', 0, 1848, 40, ' United-States', ' >50K'), (8057, 50, ' Federal-gov', 166419, 'Higher Secondary', 7, ' Never-married', ' Sales', 'No Fimily', ' Black', ' Female', 3674, 0, 40, ' United-States', ' <=50K'), (8066, 50, ' Private', 210217, ' Bachelors', 13, ' Divorced', ' Sales', ' Unmarried', ' Black', ' Male', 0, 0, 40, ' United-States', ' <=50K'), (8075, 50, ' Self-emp-inc', 136913, ' HS-grad', 9, ' Married-civ-spouse', ' Farming-fishing', ' Husband', ' White', ' Male', 0, 0, 50, ' United-States', ' <=50K'), (8091, 50, ' Private', 204838, ' HS-grad', 9, ' Divorced', ' Exec-managerial', ' Unmarried', ' White', ' Female', 0, 0, 38, ' United-States', ' <=50K'), (8255, 50, ' Private', 285200, ' Some-college', 10, ' Married-civ-spouse', ' Craft-repair', ' Husband', ' White', ' Male', 0, 1887, 35, ' United-States', ' >50K'), (8289, 50, ' Private', 148953, ' HS-grad', 9, ' Married-civ-spouse', ' Transport-moving', ' Husband', ' White', ' Male', 0, 0, 50, ' United-States', ' >50K'), (8293, 50, ' Federal-gov', 183611, ' Some-college', 10, ' Never-married', ' Adm-clerical', 'No Fimily', ' White', ' Male', 0, 0, 40, ' United-States', ' <=50K'), (8318, 50, ' Private', 22418, ' 9th', 5, ' Divorced', ' Transport-moving', 'No Fimily', ' White', ' Male', 0, 0, 50, ' United-States', ' <=50K'), (8324, 50, ' State-gov', 116211, ' Prof-school', 15, ' Married-civ-spouse', ' Exec-managerial', ' Husband', ' White', ' Male', 0, 0, 52, ' United-States', ' >50K'), (8392, 50, ' Self-emp-inc', 119099, ' Some-college', 10, ' Married-civ-spouse', ' Exec-managerial', ' Husband', ' White', ' Male', 0, 0, 99, ' United-States', ' >50K'), (8524, 50, ' Self-emp-not-inc', 57758, ' Assoc-voc', 11, ' Married-civ-spouse', ' Sales', ' Husband', ' White', ' Male', 0, 0, 60, ' United-States', ' >50K'), (8617, 50, ' Federal-gov', 172046, ' Some-college', 10, ' Married-civ-spouse', ' Exec-managerial', ' Husband', ' White', ' Male', 0, 0, 40, ' United-States', ' >50K'), (8668, 50, ' Private', 24013, ' Some-college', 10, ' Married-civ-spouse', ' Exec-managerial', ' Husband', ' White', ' Male', 0, 0, 84, ' United-States', ' >50K'), (8741, 50, ' Private', 108435, ' Masters', 14, ' Married-civ-spouse', ' Exec-managerial', ' Husband', ' White', ' Male', 99999, 0, 60, ' United-States', ' >50K'), (8754, 50, ' Local-gov', 183390, ' Bachelors', 13, ' Separated', ' Prof-specialty', 'No Fimily', ' White', ' Male', 0, 0, 40, ' United-States', ' >50K'), (8801, 50, ' Private', 180522, ' Some-college', 10, ' Never-married', ' Handlers-cleaners', 'No Fimily', ' White', ' Male', 0, 0, 38, ' United-States', ' <=50K'), (9006, 50, ' Private', 144361, ' HS-grad', 9, ' Married-civ-spouse', ' Craft-repair', ' Husband', ' White', ' Male', 0, 0, 40, ' United-States', ' <=50K'), (9040, 50, ' Private', 34832, ' Bachelors', 13, ' Married-civ-spouse', ' Tech-support', ' Husband', ' White', ' Male', 15024, 0, 40, ' United-States', ' >50K'), (9052, 50, ' Private', 142073, ' HS-grad', 9, ' Married-spouse-absent', ' Exec-managerial', 'No Fimily', ' White', ' Female', 0, 0, 55, ' United-States', ' <=50K'), (9217, 50, ' Private', 320510, ' Bachelors', 13, ' Married-civ-spouse', ' Exec-managerial', ' Husband', ' White', ' Male', 0, 1902, 40, ' United-States', ' >50K'), (9236, 50, ' Private', 162327, ' Bachelors', 13, ' Married-civ-spouse', ' Adm-clerical', ' Husband', ' White', ' Male', 0, 1902, 50, ' ?', ' >50K'), (9275, 50, ' Local-gov', 30682, ' Masters', 14, ' Married-civ-spouse', ' Prof-specialty', ' Husband', ' White', ' Male', 0, 0, 50, ' United-States', ' <=50K'), (9311, 50, ' Private', 258819, ' HS-grad', 9, ' Divorced', ' Craft-repair', 'No Fimily', ' White', ' Male', 0, 0, 40, ' United-States', ' >50K'), (9359, 50, ' Private', 150941, ' HS-grad', 9, ' Divorced', ' Machine-op-inspct', ' Unmarried', ' Black', ' Female', 0, 0, 44, ' United-States', ' <=50K'), (9398, 50, ' Local-gov', 30008, ' Bachelors', 13, ' Married-civ-spouse', ' Prof-specialty', ' Husband', ' White', ' Male', 0, 0, 45, ' United-States', ' >50K'), (9423, 50, ' Local-gov', 154779, ' Some-college', 10, ' Divorced', ' Adm-clerical', 'No Fimily', ' Black', ' Female', 0, 0, 40, ' United-States', ' <=50K'), (9443, 50, ' Private', 120914, 'Higher Secondary', 7, ' Married-civ-spouse', ' Craft-repair', ' Husband', ' White', ' Male', 0, 0, 40, ' United-States', ' <=50K'), (9544, 50, ' Private', 209464, ' HS-grad', 9, ' Separated', ' Other-service', ' Unmarried', ' White', ' Female', 0, 0, 35, ' United-States', ' <=50K'), (9597, 50, ' Private', 172942, ' Some-college', 10, ' Divorced', ' Other-service', ' Own-child', ' White', ' Male', 0, 0, 28, ' United-States', ' <=50K'), (9808, 50, ' Private', 34233, ' HS-grad', 9, ' Married-civ-spouse', ' Farming-fishing', ' Husband', ' White', ' Male', 0, 0, 50, ' United-States', ' <=50K'), (9828, 50, ' Self-emp-inc', 204447, ' Some-college', 10, ' Divorced', ' Protective-serv', 'No Fimily', ' White', ' Male', 0, 0, 40, ' United-States', ' <=50K'), (9883, 50, ' Self-emp-inc', 176751, ' Masters', 14, ' Divorced', ' Exec-managerial', 'No Fimily', ' White', ' Male', 0, 0, 80, ' United-States', ' >50K'), (9893, 50, ' Local-gov', 199995, ' Bachelors', 13, ' Divorced', ' Protective-serv', 'No Fimily', ' White', ' Male', 0, 0, 40, ' United-States', ' >50K'), (10045, 50, ' Local-gov', 97449, ' Some-college', 10, ' Married-civ-spouse', ' Protective-serv', ' Husband', ' White', ' Male', 0, 0, 48, ' United-States', ' <=50K'), (10062, 50, ' Private', 237729, ' HS-grad', 9, ' Widowed', ' Sales', 'No Fimily', ' White', ' Female', 0, 2444, 72, ' United-States', ' >50K'), (10086, 50, ' Private', 92968, ' Bachelors', 13, ' Never-married', ' Sales', ' Unmarried', ' White', ' Female', 0, 0, 32, ' United-States', ' <=50K'), (10087, 50, ' Private', 136836, ' HS-grad', 9, ' Divorced', ' Prof-specialty', ' Unmarried', ' Black', ' Female', 0, 0, 40, ' United-States', ' <=50K'), (10098, 50, ' Private', 211654, ' 10th', 6, ' Married-civ-spouse', ' Craft-repair', ' Husband', ' White', ' Male', 0, 0, 40, ' United-States', ' >50K'), (10121, 50, ' Local-gov', 259377, ' Masters', 14, ' Married-civ-spouse', ' Prof-specialty', ' Wife', ' White', ' Female', 15024, 0, 40, ' United-States', ' >50K'), (10174, 50, ' Self-emp-not-inc', 225772, ' Doctorate', 16, ' Divorced', ' Prof-specialty', 'No Fimily', ' White', ' Female', 0, 0, 60, ' United-States', ' >50K'), (10260, 50, ' State-gov', 307392, ' Masters', 14, ' Divorced', ' Prof-specialty', ' Unmarried', ' White', ' Female', 0, 0, 40, ' United-States', ' <=50K'), (10325, 50, ' Private', 149770, ' Masters', 14, ' Never-married', ' Prof-specialty', ' Unmarried', ' White', ' Female', 0, 0, 40, ' United-States', ' <=50K'), (10357, 50, ' Private', 166758, ' Some-college', 10, ' Divorced', ' Other-service', 'No Fimily', ' White', ' Female', 0, 0, 15, ' United-States', ' <=50K'), (10383, 50, ' Private', 304260, ' Assoc-acdm', 12, ' Divorced', ' Adm-clerical', 'No Fimily', ' Asian-Pac-Islander', ' Male', 0, 0, 40, ' United-States', ' <=50K'), (10412, 50, ' Private', 112873, ' Bachelors', 13, ' Married-civ-spouse', ' Sales', ' Husband', ' White', ' Male', 0, 0, 40, ' United-States', ' <=50K'), (10430, 50, ' Self-emp-not-inc', 37913, ' Bachelors', 13, ' Married-civ-spouse', ' Exec-managerial', ' Husband', ' White', ' Male', 0, 0, 40, ' Italy', ' >50K'), (10465, 50, ' State-gov', 242517, ' Bachelors', 13, ' Divorced', ' Exec-managerial', 'No Fimily', ' White', ' Female', 0, 0, 40, ' United-States', ' <=50K'), (10605, 50, ' Private', 158284, ' Some-college', 10, ' Married-civ-spouse', ' Machine-op-inspct', ' Husband', ' White', ' Male', 0, 0, 40, ' United-States', ' <=50K'), (10612, 50, ' Private', 168539, ' HS-grad', 9, ' Married-civ-spouse', ' Craft-repair', ' Husband', ' White', ' Male', 0, 0, 40, ' United-States', ' >50K'), (10645, 50, ' Private', 72351, ' Bachelors', 13, ' Divorced', ' Sales', 'No Fimily', ' White', ' Male', 0, 0, 45, ' United-States', ' <=50K'), (10702, 50, ' State-gov', 173020, ' Some-college', 10, ' Married-civ-spouse', ' Craft-repair', ' Husband', ' White', ' Male', 0, 0, 40, ' United-States', ' <=50K'), (10828, 50, ' Private', 158294, ' Assoc-voc', 11, ' Married-civ-spouse', ' Tech-support', ' Husband', ' White', ' Male', 3103, 0, 40, ' United-States', ' >50K'), (10840, 50, ' Private', 162632, ' HS-grad', 9, ' Married-civ-spouse', ' Craft-repair', ' Husband', ' White', ' Male', 0, 0, 2, ' United-States', ' <=50K'), (10972, 50, ' Private', 99392, ' Some-college', 10, ' Divorced', ' Craft-repair', 'No Fimily', ' Black', ' Female', 0, 0, 45, ' United-States', ' <=50K'), (10976, 50, ' Self-emp-not-inc', 167380, ' 7th-8th', 4, ' Married-civ-spouse', ' Farming-fishing', ' Husband', ' White', ' Male', 0, 0, 40, ' United-States', ' <=50K'), (11041, 50, ' Private', 337606, ' HS-grad', 9, ' Married-civ-spouse', ' Machine-op-inspct', ' Husband', ' White', ' Male', 0, 1485, 40, ' United-States', ' <=50K'), (11094, 50, ' Private', 121411, ' 12th', 8, ' Divorced', ' Transport-moving', 'No Fimily', ' White', ' Male', 0, 0, 40, ' United-States', ' <=50K'), (11168, 50, ' Private', 202044, ' Bachelors', 13, ' Divorced', ' Prof-specialty', ' Unmarried', ' White', ' Female', 0, 0, 45, ' United-States', ' <=50K'), (11187, 50, ' Private', 135643, ' HS-grad', 9, ' Married-civ-spouse', ' Machine-op-inspct', ' Other-relative', ' Asian-Pac-Islander', ' Female', 0, 0, 40, ' China', ' <=50K'), (11222, 50, ' Private', 118058, ' Some-college', 10, ' Married-civ-spouse', ' Transport-moving', ' Husband', ' White', ' Male', 0, 0, 50, ' United-States', ' <=50K'), (11232, 50, ' Private', 165001, ' Bachelors', 13, ' Married-civ-spouse', ' Craft-repair', ' Husband', ' White', ' Male', 0, 0, 50, ' United-States', ' <=50K'), (11241, 50, ' Local-gov', 254148, ' Some-college', 10, ' Married-civ-spouse', ' Farming-fishing', ' Husband', ' White', ' Male', 0, 0, 40, ' Mexico', ' <=50K'), (11311, 50, ' Private', 77905, ' Bachelors', 13, ' Divorced', ' Adm-clerical', 'No Fimily', ' White', ' Female', 0, 0, 8, ' United-States', ' <=50K'), (11324, 50, ' Self-emp-not-inc', 312477, ' HS-grad', 9, ' Married-civ-spouse', ' Exec-managerial', ' Husband', ' White', ' Male', 0, 1887, 40, ' United-States', ' >50K'), (11334, 50, ' Private', 189811, ' Bachelors', 13, ' Married-civ-spouse', ' Exec-managerial', ' Husband', ' White', ' Male', 0, 0, 40, ' United-States', ' >50K'), (11345, 50, ' ?', 260579, ' HS-grad', 9, ' Married-civ-spouse', ' ?', ' Husband', ' Black', ' Male', 0, 0, 40, ' United-States', ' <=50K'), (11482, 50, ' Private', 98350, ' Some-college', 10, ' Married-civ-spouse', ' Adm-clerical', ' Husband', ' Asian-Pac-Islander', ' Male', 0, 0, 40, ' Philippines', ' >50K'), (11493, 50, ' Federal-gov', 307555, ' Bachelors', 13, ' Divorced', ' Prof-specialty', 'No Fimily', ' White', ' Male', 0, 0, 60, ' United-States', ' >50K'), (11576, 50, ' Private', 279337, ' Bachelors', 13, ' Divorced', ' Exec-managerial', 'No Fimily', ' White', ' Male', 0, 0, 55, ' United-States', ' >50K'), (11607, 50, ' Private', 98228, ' HS-grad', 9, ' Divorced', ' Sales', ' Unmarried', ' White', ' Female', 0, 0, 45, ' United-States', ' <=50K'), (11656, 50, ' Private', 128478, ' HS-grad', 9, ' Married-civ-spouse', ' Craft-repair', ' Husband', ' White', ' Male', 0, 0, 60, ' United-States', ' >50K'), (11715, 50, ' Private', 177487, ' HS-grad', 9, ' Married-civ-spouse', ' Craft-repair', ' Husband', ' White', ' Male', 0, 0, 40, ' United-States', ' <=50K'), (11761, 50, ' Private', 140741, 'Higher Secondary', 7, ' Never-married', ' Machine-op-inspct', ' Other-relative', ' White', ' Female', 0, 0, 40, ' United-States', ' <=50K'), (11823, 50, ' Local-gov', 20795, ' Some-college', 10, ' Married-civ-spouse', ' Protective-serv', ' Husband', ' White', ' Male', 0, 0, 40, ' United-States', ' >50K'), (11851, 50, ' Self-emp-not-inc', 127151, ' Masters', 14, ' Married-civ-spouse', ' Prof-specialty', ' Wife', ' White', ' Female', 0, 0, 40, ' Canada', ' >50K'), (11942, 50, ' Local-gov', 311551, ' Masters', 14, ' Married-civ-spouse', ' Prof-specialty', ' Husband', ' White', ' Male', 7688, 0, 50, ' United-States', ' >50K'), (11987, 50, ' Self-emp-not-inc', 95577, ' HS-grad', 9, ' Married-civ-spouse', ' Other-service', ' Wife', ' White', ' Female', 0, 0, 12, ' ?', ' <=50K'), (12207, 50, ' Private', 155594, ' Assoc-acdm', 12, ' Married-civ-spouse', ' Machine-op-inspct', ' Husband', ' White', ' Male', 0, 0, 50, ' United-States', ' >50K'), (12213, 50, ' ?', 346014, ' 7th-8th', 4, ' Separated', ' ?', ' Own-child', ' White', ' Female', 0, 0, 20, ' United-States', ' <=50K'), (12219, 50, ' Local-gov', 220640, ' Masters', 14, ' Divorced', ' Prof-specialty', 'No Fimily', ' Amer-Indian-Eskimo', ' Female', 0, 0, 50, ' United-States', ' >50K'), (12245, 50, ' Private', 237819, ' HS-grad', 9, ' Married-civ-spouse', ' Transport-moving', ' Husband', ' White', ' Male', 0, 0, 40, ' United-States', ' >50K'), (12257, 50, ' Private', 89041, ' HS-grad', 9, ' Married-civ-spouse', ' Craft-repair', ' Husband', ' White', ' Male', 15024, 0, 50, ' United-States', ' >50K'), (12393, 50, ' State-gov', 289207, ' Doctorate', 16, ' Married-civ-spouse', ' Prof-specialty', ' Husband', ' White', ' Male', 0, 1902, 45, ' United-States', ' >50K'), (12401, 50, ' Private', 40623, ' Some-college', 10, ' Divorced', ' Sales', 'No Fimily', ' White', ' Female', 0, 0, 40, ' United-States', ' <=50K'), (12440, 50, ' Self-emp-not-inc', 114758, ' Bachelors', 13, ' Never-married', ' Craft-repair', 'No Fimily', ' White', ' Male', 4416, 0, 45, ' United-States', ' <=50K'), (12532, 50, ' Self-emp-not-inc', 155118, ' HS-grad', 9, ' Divorced', ' Exec-managerial', 'No Fimily', ' White', ' Female', 99999, 0, 35, ' United-States', ' >50K'), (12539, 50, ' Private', 27484, ' HS-grad', 9, ' Married-civ-spouse', ' Exec-managerial', ' Husband', ' White', ' Male', 0, 0, 50, ' United-States', ' >50K'), (12708, 50, ' Federal-gov', 221532, ' Assoc-acdm', 12, ' Married-civ-spouse', ' Craft-repair', ' Husband', ' White', ' Male', 0, 0, 40, ' United-States', ' >50K'), (12731, 50, ' Private', 160724, ' Masters', 14, ' Married-civ-spouse', ' Exec-managerial', ' Husband', ' Asian-Pac-Islander', ' Male', 7298, 0, 40, ' Philippines', ' >50K'), (12736, 50, ' Private', 196975, ' HS-grad', 9, ' Married-civ-spouse', ' Craft-repair', ' Husband', ' White', ' Male', 0, 0, 40, ' United-States', ' >50K'), (12745, 50, ' Private', 138179, ' Assoc-acdm', 12, ' Married-civ-spouse', ' Craft-repair', ' Husband', ' White', ' Male', 0, 1902, 40, ' United-States', ' >50K'), (12778, 50, ' Private', 172052, ' HS-grad', 9, ' Married-civ-spouse', ' Prof-specialty', ' Husband', ' Asian-Pac-Islander', ' Male', 0, 0, 35, ' South', ' >50K'), (12779, 50, ' Local-gov', 50178, ' Some-college', 10, ' Married-civ-spouse', ' Craft-repair', ' Husband', ' White', ' Male', 4064, 0, 55, ' United-States', ' <=50K'), (12799, 50, ' Private', 152810, ' Bachelors', 13, ' Married-civ-spouse', ' Sales', ' Husband', ' White', ' Male', 0, 0, 40, ' United-States', ' >50K'), (12820, 50, ' Private', 222020, ' HS-grad', 9, ' Married-civ-spouse', ' Craft-repair', ' Husband', ' White', ' Male', 0, 0, 40, ' United-States', ' <=50K'), (12865, 50, ' Private', 231495, ' HS-grad', 9, ' Married-civ-spouse', ' Other-service', ' Husband', ' White', ' Male', 0, 0, 40, ' United-States', ' <=50K'), (12886, 50, ' Self-emp-not-inc', 32372, ' HS-grad', 9, ' Married-civ-spouse', ' Farming-fishing', ' Husband', ' White', ' Male', 0, 0, 30, ' United-States', ' <=50K'), (12902, 50, ' Private', 209320, ' Bachelors', 13, ' Married-civ-spouse', ' Sales', ' Husband', ' White', ' Male', 0, 0, 40, ' United-States', ' >50K'), (12913, 50, ' Private', 175804, ' HS-grad', 9, ' Married-civ-spouse', ' Sales', ' Husband', ' White', ' Male', 0, 0, 48, ' United-States', ' <=50K'), (12999, 50, ' Self-emp-not-inc', 176867, ' Doctorate', 16, ' Married-civ-spouse', ' Prof-specialty', ' Husband', ' White', ' Male', 3781, 0, 40, ' United-States', ' <=50K'), (13008, 50, ' Private', 165050, ' 10th', 6, ' Married-civ-spouse', ' Craft-repair', ' Husband', ' White', ' Male', 0, 0, 40, ' United-States', ' >50K'), (13036, 50, ' Private', 283281, ' 7th-8th', 4, ' Married-civ-spouse', ' Machine-op-inspct', ' Husband', ' Black', ' Male', 0, 0, 40, ' United-States', ' <=50K'), (13092, 50, ' State-gov', 24647, ' Some-college', 10, ' Married-civ-spouse', ' Adm-clerical', ' Husband', ' White', ' Male', 0, 0, 40, ' United-States', ' >50K'), (13099, 50, ' Private', 274528, ' Some-college', 10, ' Married-civ-spouse', ' Sales', ' Husband', ' White', ' Male', 0, 0, 40, ' United-States', ' <=50K'), (13110, 50, ' Self-emp-not-inc', 219420, ' Doctorate', 16, ' Divorced', ' Sales', 'No Fimily', ' White', ' Male', 0, 0, 64, ' United-States', ' <=50K'), (13131, 50, ' Local-gov', 168672, ' Masters', 14, ' Married-civ-spouse', ' Prof-specialty', ' Wife', ' White', ' Female', 0, 1902, 40, ' United-States', ' >50K'), (13397, 50, ' Private', 173754, ' HS-grad', 9, ' Married-civ-spouse', ' Craft-repair', ' Husband', ' White', ' Male', 0, 0, 40, ' United-States', ' <=50K'), (13420, 50, ' Private', 108926, ' Some-college', 10, ' Divorced', ' Machine-op-inspct', 'No Fimily', ' Black', ' Female', 0, 0, 40, ' United-States', ' <=50K'), (13498, 50, ' Private', 238959, ' Bachelors', 13, ' Married-civ-spouse', ' Sales', ' Husband', ' White', ' Male', 99999, 0, 60, ' ?', ' >50K'), (13530, 50, ' Private', 35224, ' HS-grad', 9, ' Married-civ-spouse', ' Craft-repair', ' Husband', ' White', ' Male', 0, 0, 40, ' United-States', ' <=50K'), (13533, 50, ' ?', 87263, ' HS-grad', 9, ' Married-civ-spouse', ' ?', ' Husband', ' White', ' Male', 0, 0, 55, ' United-States', ' >50K'), (13630, 50, ' Private', 150999, ' Masters', 14, ' Married-civ-spouse', ' Prof-specialty', ' Husband', ' White', ' Male', 0, 1977, 40, ' United-States', ' >50K'), (13685, 50, ' Private', 130780, ' HS-grad', 9, ' Married-civ-spouse', ' Handlers-cleaners', ' Husband', ' Black', ' Male', 0, 0, 40, ' United-States', ' <=50K'), (13694, 50, ' Private', 205803, ' Masters', 14, ' Married-civ-spouse', ' Sales', ' Husband', ' White', ' Male', 15024, 0, 40, ' United-States', ' >50K'), (13706, 50, ' Private', 114056, ' Assoc-voc', 11, ' Married-civ-spouse', ' Protective-serv', ' Husband', ' White', ' Male', 0, 0, 84, ' United-States', ' <=50K'), (13850, 50, ' Private', 185846, ' HS-grad', 9, ' Married-civ-spouse', ' Sales', ' Husband', ' White', ' Male', 0, 0, 40, ' United-States', ' <=50K'), (13854, 50, ' Private', 63000, ' Some-college', 10, ' Married-civ-spouse', ' Sales', ' Husband', ' White', ' Male', 0, 0, 60, ' United-States', ' >50K'), (13884, 50, ' Private', 177896, ' HS-grad', 9, ' Married-civ-spouse', ' Craft-repair', ' Husband', ' White', ' Male', 0, 0, 50, ' United-States', ' <=50K'), (13885, 50, ' Private', 189107, ' HS-grad', 9, ' Married-civ-spouse', ' Machine-op-inspct', ' Husband', ' White', ' Male', 0, 0, 40, ' United-States', ' <=50K'), (13903, 50, ' Self-emp-not-inc', 203098, ' Bachelors', 13, ' Married-civ-spouse', ' Exec-managerial', ' Husband', ' White', ' Male', 0, 0, 35, ' United-States', ' <=50K'), (13910, 50, ' Private', 200783, ' 7th-8th', 4, ' Divorced', ' Craft-repair', 'No Fimily', ' White', ' Male', 0, 0, 60, ' United-States', ' <=50K'), (13966, 50, ' Private', 169925, ' HS-grad', 9, ' Married-civ-spouse', ' Craft-repair', ' Husband', ' White', ' Male', 0, 0, 15, ' United-States', ' <=50K'), (14040, 50, ' Self-emp-inc', 104849, ' Prof-school', 15, ' Married-civ-spouse', ' Prof-specialty', ' Husband', ' Asian-Pac-Islander', ' Male', 0, 0, 40, ' India', ' <=50K'), (14145, 50, ' Private', 109277, ' 9th', 5, ' Married-civ-spouse', ' Machine-op-inspct', ' Husband', ' White', ' Male', 0, 0, 48, ' United-States', ' <=50K'), (14190, 50, ' Private', 118565, 'Higher Secondary', 7, ' Married-civ-spouse', ' Machine-op-inspct', ' Husband', ' Black', ' Male', 0, 0, 40, ' United-States', ' <=50K'), (14382, 50, ' Private', 133963, ' Bachelors', 13, ' Divorced', ' Sales', 'No Fimily', ' White', ' Female', 0, 0, 50, ' United-States', ' <=50K'), (14510, 50, ' Self-emp-not-inc', 204402, ' HS-grad', 9, ' Married-civ-spouse', ' Farming-fishing', ' Husband', ' White', ' Male', 0, 0, 84, ' United-States', ' >50K'), (14511, 50, ' Private', 192203, 'Higher Secondary', 7, ' Married-civ-spouse', ' Transport-moving', ' Husband', ' White', ' Male', 0, 0, 40, ' United-States', ' <=50K'), (14618, 50, ' Private', 153931, ' HS-grad', 9, ' Divorced', ' Adm-clerical', 'No Fimily', ' White', ' Female', 0, 0, 40, ' United-States', ' <=50K'), (14682, 50, ' Federal-gov', 96657, ' Bachelors', 13, ' Divorced', ' Prof-specialty', ' Unmarried', ' Black', ' Female', 0, 0, 40, ' United-States', ' <=50K'), (14743, 50, ' Private', 185354, ' Masters', 14, ' Divorced', ' Exec-managerial', 'No Fimily', ' White', ' Female', 0, 0, 35, ' United-States', ' <=50K'), (14799, 50, ' Private', 221791, ' Assoc-acdm', 12, ' Married-civ-spouse', ' Tech-support', ' Husband', ' Black', ' Male', 0, 0, 40, ' United-States', ' <=50K'), (14810, 50, ' Private', 138022, ' Some-college', 10, ' Married-civ-spouse', ' Prof-specialty', ' Husband', ' White', ' Male', 0, 0, 40, ' United-States', ' <=50K'), (14822, 50, ' Private', 398625, 'Higher Secondary', 7, ' Widowed', ' Machine-op-inspct', 'No Fimily', ' White', ' Female', 0, 0, 40, ' United-States', ' <=50K'), (14893, 50, ' Private', 129673, ' Bachelors', 13, ' Divorced', ' Exec-managerial', 'No Fimily', ' White', ' Female', 0, 0, 50, ' United-States', ' >50K'), (14984, 50, ' Local-gov', 120190, ' Masters', 14, ' Divorced', ' Prof-specialty', 'No Fimily', ' White', ' Female', 0, 0, 45, ' United-States', ' <=50K'), (14998, 50, ' State-gov', 24185, ' Bachelors', 13, ' Married-civ-spouse', ' Exec-managerial', ' Husband', ' White', ' Male', 0, 0, 38, ' United-States', ' >50K'), (15055, 50, ' Private', 338283, ' Some-college', 10, ' Married-civ-spouse', ' Craft-repair', ' Husband', ' White', ' Male', 0, 0, 40, ' United-States', ' >50K'), (15102, 50, ' Private', 99307, ' HS-grad', 9, ' Married-civ-spouse', ' Craft-repair', ' Husband', ' White', ' Male', 5013, 0, 45, ' United-States', ' <=50K'), (15145, 50, ' Local-gov', 124076, ' Bachelors', 13, ' Married-civ-spouse', ' Prof-specialty', ' Wife', ' White', ' Female', 0, 0, 40, ' United-States', ' >50K'), (15246, 50, ' Private', 189183, ' HS-grad', 9, ' Married-civ-spouse', ' Adm-clerical', ' Husband', ' White', ' Male', 0, 0, 40, ' United-States', ' <=50K'), (15539, 50, ' Self-emp-not-inc', 192654, ' 10th', 6, ' Never-married', ' Craft-repair', 'No Fimily', ' White', ' Male', 0, 0, 25, ' United-States', ' <=50K'), (15545, 50, ' Self-emp-inc', 240374, ' Masters', 14, ' Married-civ-spouse', ' Sales', ' Husband', ' White', ' Male', 0, 0, 40, ' United-States', ' >50K'), (15570, 50, ' Federal-gov', 186272, ' Some-college', 10, ' Married-civ-spouse', ' Exec-managerial', ' Husband', ' White', ' Male', 0, 0, 40, ' United-States', ' <=50K'), (15584, 50, ' Federal-gov', 299831, ' Some-college', 10, ' Divorced', ' Adm-clerical', ' Unmarried', ' White', ' Female', 0, 880, 40, ' United-States', ' <=50K'), (15603, 50, ' Private', 124963, ' Bachelors', 13, ' Married-civ-spouse', ' Exec-managerial', ' Husband', ' White', ' Male', 99999, 0, 55, ' United-States', ' >50K'), (15635, 50, ' Private', 172511, ' Some-college', 10, ' Married-civ-spouse', ' Craft-repair', ' Husband', ' White', ' Male', 0, 0, 40, ' United-States', ' >50K'), (15653, 50, ' Private', 211319, ' Bachelors', 13, ' Married-civ-spouse', ' Exec-managerial', ' Husband', ' White', ' Male', 7298, 0, 50, ' United-States', ' >50K'), (15680, 50, ' Private', 124094, ' HS-grad', 9, ' Married-civ-spouse', ' Craft-repair', ' Husband', ' White', ' Male', 0, 0, 40, ' Poland', ' <=50K'), (15721, 50, ' Private', 248619, ' HS-grad', 9, ' Married-civ-spouse', ' Craft-repair', ' Husband', ' White', ' Male', 0, 0, 40, ' United-States', ' <=50K'), (15794, 50, ' Self-emp-not-inc', 54261, ' HS-grad', 9, ' Married-civ-spouse', ' Farming-fishing', ' Husband', ' White', ' Male', 0, 0, 84, ' United-States', ' <=50K'), (15993, 50, ' Private', 305147, ' Bachelors', 13, ' Married-civ-spouse', ' Craft-repair', ' Husband', ' White', ' Male', 0, 0, 40, ' United-States', ' <=50K'), (16001, 50, ' Private', 193871, ' Bachelors', 13, ' Divorced', ' Exec-managerial', ' Unmarried', ' White', ' Female', 0, 0, 40, ' United-States', ' <=50K'), (16009, 50, ' Private', 166220, ' Assoc-acdm', 12, ' Married-civ-spouse', ' Sales', ' Wife', ' White', ' Female', 3942, 0, 40, ' United-States', ' <=50K'), (16125, 50, ' Private', 31621, ' HS-grad', 9, ' Married-civ-spouse', ' Craft-repair', ' Husband', ' White', ' Male', 0, 0, 40, ' United-States', ' >50K'), (16155, 50, ' Self-emp-not-inc', 93705, ' Some-college', 10, ' Divorced', ' Sales', 'No Fimily', ' White', ' Female', 0, 0, 40, ' United-States', ' <=50K'), (16164, 50, ' Private', 150876, ' HS-grad', 9, ' Married-civ-spouse', ' Exec-managerial', ' Husband', ' Black', ' Male', 0, 1887, 55, ' United-States', ' >50K'), (16268, 50, ' Self-emp-not-inc', 198581, ' Prof-school', 15, ' Married-civ-spouse', ' Prof-specialty', ' Husband', ' White', ' Male', 0, 0, 50, ' United-States', ' >50K'), (16286, 50, ' Private', 283676, ' Some-college', 10, ' Married-civ-spouse', ' Craft-repair', ' Husband', ' White', ' Male', 0, 0, 40, ' United-States', ' >50K'), (16325, 50, ' Private', 171225, ' Bachelors', 13, ' Married-civ-spouse', ' Exec-managerial', ' Husband', ' Asian-Pac-Islander', ' Male', 0, 0, 40, ' Philippines', ' >50K'), (16332, 50, ' Private', 220019, ' Masters', 14, ' Married-civ-spouse', ' Prof-specialty', ' Wife', ' White', ' Female', 0, 0, 40, ' United-States', ' <=50K'), (16357, 50, ' Private', 166565, ' HS-grad', 9, ' Married-civ-spouse', ' Machine-op-inspct', ' Husband', ' White', ' Male', 0, 0, 50, ' United-States', ' <=50K'), (16414, 50, ' Private', 143664, ' Bachelors', 13, ' Never-married', ' Exec-managerial', 'No Fimily', ' White', ' Male', 0, 0, 40, ' United-States', ' <=50K'), (16421, 50, ' Self-emp-inc', 158294, ' Prof-school', 15, ' Married-civ-spouse', ' Prof-specialty', ' Husband', ' White', ' Male', 99999, 0, 80, ' United-States', ' >50K'), (16445, 50, ' Self-emp-not-inc', 186565, ' Bachelors', 13, ' Married-civ-spouse', ' Sales', ' Husband', ' White', ' Male', 0, 0, 50, ' United-States', ' <=50K'), (16452, 50, ' Private', 113290, ' HS-grad', 9, ' Married-civ-spouse', ' Sales', ' Wife', ' White', ' Female', 0, 0, 15, ' United-States', ' <=50K'), (16698, 50, ' Self-emp-inc', 123429, ' Bachelors', 13, ' Married-civ-spouse', ' Prof-specialty', ' Husband', ' White', ' Male', 0, 0, 45, ' Italy', ' >50K'), (16792, 50, ' Private', 266529, 'Higher Secondary', 7, ' Married-civ-spouse', ' Craft-repair', ' Husband', ' White', ' Male', 0, 0, 40, ' United-States', ' <=50K'), (16893, 50, ' Self-emp-not-inc', 231196, ' Bachelors', 13, ' Divorced', ' Sales', 'No Fimily', ' White', ' Male', 0, 0, 50, ' United-States', ' <=50K'), (16912, 50, ' Private', 200960, ' Some-college', 10, ' Married-civ-spouse', ' Sales', ' Husband', ' White', ' Male', 0, 0, 50, ' United-States', ' <=50K'), (16925, 50, ' Private', 138514, ' Some-college', 10, ' Divorced', ' Adm-clerical', ' Unmarried', ' Black', ' Female', 0, 0, 40, ' United-States', ' <=50K'), (16988, 50, ' Private', 104501, ' Masters', 14, ' Married-civ-spouse', ' Prof-specialty', ' Husband', ' White', ' Male', 0, 0, 40, ' United-States', ' >50K'), (17048, 50, ' Private', 215990, ' HS-grad', 9, ' Married-civ-spouse', ' Craft-repair', ' Husband', ' White', ' Male', 0, 0, 40, ' United-States', ' >50K'), (17083, 50, ' Private', 158948, ' 7th-8th', 4, ' Married-civ-spouse', ' Craft-repair', ' Husband', ' White', ' Male', 3411, 0, 40, ' United-States', ' <=50K'), (17135, 50, ' Private', 226735, ' Some-college', 10, ' Married-civ-spouse', ' Protective-serv', ' Husband', ' Black', ' Male', 0, 0, 70, ' United-States', ' >50K'), (17199, 50, ' Private', 105010, ' Bachelors', 13, ' Married-civ-spouse', ' Farming-fishing', ' Husband', ' White', ' Male', 0, 0, 45, ' United-States', ' >50K'), (17206, 50, ' Private', 297906, ' Some-college', 10, ' Married-civ-spouse', ' Sales', ' Husband', ' Asian-Pac-Islander', ' Male', 0, 0, 50, ' United-States', ' >50K'), (17221, 50, ' Private', 228057, ' HS-grad', 9, ' Married-civ-spouse', ' Transport-moving', ' Husband', ' White', ' Male', 0, 0, 40, ' United-States', ' <=50K'), (17237, 50, ' Private', 198681, ' Some-college', 10, ' Married-civ-spouse', ' Transport-moving', ' Husband', ' White', ' Male', 0, 0, 70, ' United-States', ' >50K'), (17317, 50, ' Local-gov', 172175, ' Prof-school', 15, ' Married-civ-spouse', ' Prof-specialty', ' Husband', ' White', ' Male', 0, 0, 40, ' United-States', ' >50K'), (17326, 50, ' Private', 98975, ' Bachelors', 13, ' Married-civ-spouse', ' Exec-managerial', ' Husband', ' White', ' Male', 15024, 0, 40, ' United-States', ' >50K'), (17332, 50, ' Private', 256861, ' HS-grad', 9, ' Married-civ-spouse', ' Sales', ' Husband', ' White', ' Male', 0, 0, 80, ' United-States', ' <=50K'), (17466, 50, ' Local-gov', 139296, 'Higher Secondary', 7, ' Never-married', ' Craft-repair', ' Unmarried', ' White', ' Male', 0, 0, 40, ' United-States', ' <=50K'), (17510, 50, ' Private', 44116, ' HS-grad', 9, ' Divorced', ' Craft-repair', ' Unmarried', ' White', ' Female', 0, 0, 40, ' United-States', ' <=50K'), (17574, 50, ' Local-gov', 36489, ' 10th', 6, ' Never-married', ' Other-service', 'No Fimily', ' White', ' Male', 0, 0, 40, ' United-States', ' <=50K'), (17637, 50, ' Federal-gov', 98980, ' Bachelors', 13, ' Married-civ-spouse', ' Exec-managerial', ' Husband', ' White', ' Male', 7298, 0, 40, ' United-States', ' >50K'), (17693, 50, ' Private', 50178, ' HS-grad', 9, ' Married-civ-spouse', ' Tech-support', ' Husband', ' White', ' Male', 0, 0, 40, ' United-States', ' >50K'), (17696, 50, ' Private', 321770, ' HS-grad', 9, ' Divorced', ' Adm-clerical', 'No Fimily', ' White', ' Female', 0, 0, 40, ' United-States', ' <=50K'), (17881, 50, ' ?', 281504, ' Some-college', 10, ' Married-civ-spouse', ' ?', ' Husband', ' White', ' Male', 0, 0, 40, ' United-States', ' <=50K'), (17908, 50, ' Private', 275181, ' 5th-6th', 3, ' Divorced', ' Other-service', 'No Fimily', ' White', ' Male', 0, 0, 37, ' Cuba', ' <=50K'), (17951, 50, ' Private', 191062, ' HS-grad', 9, ' Married-civ-spouse', ' Handlers-cleaners', ' Husband', ' White', ' Male', 0, 0, 40, ' United-States', ' <=50K'), (17966, 50, ' Private', 233369, ' Some-college', 10, ' Divorced', ' Prof-specialty', ' Unmarried', ' White', ' Female', 0, 0, 40, ' United-States', ' <=50K'), (18027, 50, ' Private', 195844, ' Assoc-acdm', 12, ' Married-civ-spouse', ' Exec-managerial', ' Husband', ' White', ' Male', 0, 0, 50, ' United-States', ' >50K'), (18086, 50, ' Local-gov', 163998, ' Bachelors', 13, ' Married-civ-spouse', ' Protective-serv', ' Husband', ' White', ' Male', 0, 0, 44, ' United-States', ' >50K'), (18263, 50, ' Private', 191299, ' HS-grad', 9, ' Married-civ-spouse', ' Craft-repair', ' Husband', ' White', ' Male', 0, 0, 50, ' United-States', ' <=50K'), (18275, 50, ' Private', 173630, ' HS-grad', 9, ' Divorced', ' Sales', 'No Fimily', ' White', ' Male', 0, 0, 60, ' United-States', ' <=50K'), (18284, 50, ' Private', 143953, ' HS-grad', 9, ' Married-civ-spouse', ' Sales', ' Husband', ' White', ' Male', 0, 0, 65, ' United-States', ' >50K'), (18288, 50, ' Private', 173630, ' HS-grad', 9, ' Married-civ-spouse', ' Farming-fishing', ' Husband', ' White', ' Male', 0, 0, 35, ' United-States', ' <=50K'), (18356, 50, ' Private', 145333, ' Doctorate', 16, ' Divorced', ' Prof-specialty', ' Other-relative', ' White', ' Male', 10520, 0, 50, ' United-States', ' >50K'), (18405, 50, ' Private', 166565, ' HS-grad', 9, ' Married-civ-spouse', ' Transport-moving', ' Husband', ' White', ' Male', 0, 0, 40, ' United-States', ' <=50K'), (18449, 50, ' Self-emp-inc', 120781, ' Bachelors', 13, ' Married-civ-spouse', ' Sales', ' Husband', ' Asian-Pac-Islander', ' Male', 0, 0, 60, ' South', ' >50K'), (18463, 50, ' Private', 271160, ' Some-college', 10, ' Divorced', ' Sales', 'No Fimily', ' White', ' Female', 0, 0, 40, ' United-States', ' <=50K'), (18496, 50, ' Self-emp-inc', 132716, ' Some-college', 10, ' Married-civ-spouse', ' Exec-managerial', ' Husband', ' White', ' Male', 0, 0, 50, ' Germany', ' >50K'), (18567, 50, ' Private', 289390, ' HS-grad', 9, ' Married-civ-spouse', ' Craft-repair', ' Husband', ' White', ' Male', 0, 0, 47, ' United-States', ' <=50K'), (18778, 50, ' Private', 187830, ' Bachelors', 13, ' Never-married', ' Exec-managerial', 'No Fimily', ' White', ' Male', 0, 0, 50, ' United-States', ' >50K'), (18825, 50, ' Local-gov', 226497, ' Some-college', 10, ' Married-civ-spouse', ' Protective-serv', ' Husband', ' White', ' Male', 0, 0, 52, ' United-States', ' >50K'), (18908, 50, ' Self-emp-not-inc', 221336, ' Some-college', 10, ' Divorced', ' Exec-managerial', ' Unmarried', ' Asian-Pac-Islander', ' Female', 0, 0, 40, ' ?', ' <=50K'), (18940, 50, ' Private', 238959, ' Some-college', 10, ' Married-civ-spouse', ' Adm-clerical', ' Husband', ' White', ' Male', 0, 0, 45, ' United-States', ' >50K'), (18946, 50, ' Private', 94391, ' Assoc-voc', 11, ' Married-civ-spouse', ' Craft-repair', ' Husband', ' White', ' Male', 0, 0, 50, ' United-States', ' >50K'), (18947, 50, ' Local-gov', 153064, ' HS-grad', 9, ' Married-civ-spouse', ' Exec-managerial', ' Husband', ' White', ' Male', 5178, 0, 40, ' United-States', ' >50K'), (18953, 50, ' State-gov', 133014, ' Assoc-voc', 11, ' Married-civ-spouse', ' Prof-specialty', ' Husband', ' White', ' Male', 0, 0, 40, ' United-States', ' <=50K'), (19116, 50, ' Private', 287927, ' HS-grad', 9, ' Married-civ-spouse', ' Prof-specialty', ' Wife', ' White', ' Female', 0, 0, 16, ' United-States', ' <=50K'), (19246, 50, ' Private', 237868, ' Masters', 14, ' Married-civ-spouse', ' Exec-managerial', ' Husband', ' White', ' Male', 0, 0, 50, ' United-States', ' >50K'), (19253, 50, ' Local-gov', 425804, ' Bachelors', 13, ' Divorced', ' Exec-managerial', 'No Fimily', ' White', ' Female', 0, 0, 40, ' United-States', ' >50K'), (19290, 50, ' Self-emp-not-inc', 341797, ' Prof-school', 15, ' Married-civ-spouse', ' Prof-specialty', ' Husband', ' White', ' Male', 0, 0, 50, ' United-States', ' >50K'), (19367, 50, ' Self-emp-not-inc', 163948, ' HS-grad', 9, ' Married-civ-spouse', ' Transport-moving', ' Husband', ' White', ' Male', 0, 0, 40, ' United-States', ' >50K'), (19403, 50, ' Private', 234037, ' HS-grad', 9, ' Married-civ-spouse', ' Machine-op-inspct', ' Husband', ' White', ' Male', 0, 0, 58, ' United-States', ' <=50K'), (19415, 50, ' Private', 31014, ' HS-grad', 9, ' Married-civ-spouse', ' Prof-specialty', ' Wife', ' White', ' Female', 0, 0, 40, ' United-States', ' >50K'), (19440, 50, ' Private', 162327, ' Some-college', 10, ' Married-civ-spouse', ' Handlers-cleaners', ' Husband', ' White', ' Male', 0, 0, 50, ' United-States', ' <=50K'), (19465, 50, ' Local-gov', 117496, ' HS-grad', 9, ' Married-civ-spouse', ' Adm-clerical', ' Wife', ' White', ' Female', 7298, 0, 30, ' United-States', ' >50K'), (19512, 50, ' Private', 174102, ' HS-grad', 9, ' Divorced', ' Craft-repair', ' Own-child', ' White', ' Male', 0, 0, 40, ' Puerto-Rico', ' <=50K'), (19642, 50, ' Private', 204447, ' Masters', 14, ' Married-civ-spouse', ' Exec-managerial', ' Husband', ' White', ' Male', 15024, 0, 65, ' United-States', ' >50K'), (19643, 50, ' Private', 33304, ' HS-grad', 9, ' Married-civ-spouse', ' Craft-repair', ' Husband', ' White', ' Male', 0, 0, 40, ' United-States', ' >50K'), (19686, 50, ' Private', 180607, ' HS-grad', 9, ' Never-married', ' Adm-clerical', ' Own-child', ' White', ' Female', 0, 0, 40, ' United-States', ' <=50K'), (19742, 50, ' Self-emp-inc', 302708, ' Bachelors', 13, ' Married-civ-spouse', ' Exec-managerial', ' Husband', ' Asian-Pac-Islander', ' Male', 7688, 0, 50, ' Japan', ' >50K'), (19791, 50, ' Private', 177705, ' Bachelors', 13, ' Divorced', ' Other-service', 'No Fimily', ' White', ' Male', 0, 0, 40, ' United-States', ' <=50K'), (19865, 50, ' Self-emp-not-inc', 68898, ' Masters', 14, ' Married-civ-spouse', ' Sales', ' Husband', ' White', ' Male', 7688, 0, 55, ' United-States', ' >50K'), (19940, 50, ' Private', 98215, ' HS-grad', 9, ' Divorced', ' Other-service', 'No Fimily', ' White', ' Male', 0, 0, 40, ' United-States', ' <=50K'), (20054, 50, ' Private', 183173, ' HS-grad', 9, ' Married-civ-spouse', ' Prof-specialty', ' Husband', ' White', ' Male', 99999, 0, 40, ' United-States', ' >50K'), (20277, 50, ' Local-gov', 191130, ' Assoc-voc', 11, ' Married-civ-spouse', ' Protective-serv', ' Husband', ' White', ' Male', 0, 0, 40, ' United-States', ' >50K'), (20281, 50, ' Federal-gov', 65160, ' Bachelors', 13, ' Married-civ-spouse', ' Exec-managerial', ' Husband', ' White', ' Male', 0, 0, 40, ' United-States', ' <=50K'), (20318, 50, ' Private', 38310, ' 7th-8th', 4, ' Divorced', ' Other-service', ' Other-relative', ' White', ' Female', 0, 0, 40, ' United-States', ' <=50K'), (20359, 50, ' Self-emp-not-inc', 64667, ' HS-grad', 9, ' Divorced', ' Prof-specialty', 'No Fimily', ' Asian-Pac-Islander', ' Female', 0, 0, 60, ' Vietnam', ' <=50K'), (20370, 50, ' Private', 410186, ' HS-grad', 9, ' Married-civ-spouse', ' Craft-repair', ' Husband', ' White', ' Male', 0, 0, 40, ' United-States', ' <=50K'), (20388, 50, ' Self-emp-not-inc', 30731, ' Assoc-voc', 11, ' Never-married', ' Other-service', 'No Fimily', ' White', ' Male', 0, 0, 50, ' United-States', ' <=50K'), (20544, 50, ' Self-emp-inc', 175070, ' Prof-school', 15, ' Married-civ-spouse', ' Prof-specialty', ' Husband', ' White', ' Male', 0, 0, 45, ' United-States', ' >50K'), (20683, 50, ' Private', 138852, ' Masters', 14, ' Married-civ-spouse', ' Exec-managerial', ' Husband', ' White', ' Male', 15024, 0, 50, ' United-States', ' >50K'), (20719, 50, ' Private', 190762, ' 5th-6th', 3, ' Married-civ-spouse', ' Handlers-cleaners', ' Husband', ' White', ' Male', 0, 0, 40, ' Mexico', ' <=50K'), (20755, 50, ' Private', 234373, ' Masters', 14, ' Married-civ-spouse', ' Exec-managerial', ' Wife', ' White', ' Female', 0, 1485, 40, ' United-States', ' <=50K'), (20785, 50, ' Private', 48358, ' HS-grad', 9, ' Married-civ-spouse', ' Craft-repair', ' Husband', ' White', ' Male', 7688, 0, 40, ' United-States', ' >50K'), (20821, 50, ' Self-emp-inc', 207246, ' Some-college', 10, ' Separated', ' Exec-managerial', ' Unmarried', ' White', ' Female', 0, 0, 75, ' United-States', ' <=50K'), (20843, 50, ' Private', 108446, ' Some-college', 10, ' Married-civ-spouse', ' Sales', ' Husband', ' White', ' Male', 0, 0, 40, ' United-States', ' <=50K'), (20847, 50, ' Private', 185846, ' HS-grad', 9, ' Married-civ-spouse', ' Sales', ' Husband', ' White', ' Male', 0, 0, 55, ' United-States', ' >50K'), (20853, 50, ' Private', 145409, ' Bachelors', 13, ' Married-civ-spouse', ' Prof-specialty', ' Husband', ' White', ' Male', 15024, 0, 40, ' United-States', ' >50K'), (20987, 50, ' Private', 128478, ' HS-grad', 9, ' Married-civ-spouse', ' Transport-moving', ' Husband', ' White', ' Male', 0, 0, 70, ' United-States', ' <=50K'), (21205, 50, ' Private', 158680, ' Masters', 14, ' Married-civ-spouse', ' Exec-managerial', ' Husband', ' White', ' Male', 0, 0, 50, ' United-States', ' >50K'), (21218, 50, ' Private', 161438, ' HS-grad', 9, ' Married-civ-spouse', ' Exec-managerial', ' Husband', ' White', ' Male', 0, 0, 50, ' United-States', ' >50K'), (21270, 50, ' Private', 107265, ' HS-grad', 9, ' Married-civ-spouse', ' Transport-moving', ' Husband', ' White', ' Male', 0, 0, 50, ' United-States', ' >50K'), (21284, 50, ' Private', 146310, ' 9th', 5, ' Married-civ-spouse', ' Machine-op-inspct', ' Husband', ' White', ' Male', 0, 0, 40, ' United-States', ' <=50K'), (21372, 50, ' Private', 188186, ' Masters', 14, ' Divorced', ' Sales', 'No Fimily', ' White', ' Female', 0, 1590, 45, ' United-States', ' <=50K'), (21415, 50, ' Local-gov', 92486, ' Some-college', 10, ' Married-civ-spouse', ' Craft-repair', ' Husband', ' White', ' Male', 0, 0, 40, ' United-States', ' <=50K'), (21532, 50, ' State-gov', 161075, ' HS-grad', 9, ' Widowed', ' Tech-support', ' Unmarried', ' Black', ' Female', 0, 0, 40, ' United-States', ' <=50K'), (21554, 50, ' State-gov', 78649, ' Some-college', 10, ' Married-spouse-absent', ' Adm-clerical', ' Unmarried', ' Amer-Indian-Eskimo', ' Female', 0, 0, 40, ' United-States', ' <=50K'), (21622, 50, ' Private', 89534, ' HS-grad', 9, ' Married-civ-spouse', ' Machine-op-inspct', ' Husband', ' White', ' Male', 0, 0, 40, ' United-States', ' <=50K'), (21692, 50, ' Private', 171924, ' Bachelors', 13, ' Married-civ-spouse', ' Prof-specialty', ' Husband', ' White', ' Male', 0, 0, 43, ' United-States', ' >50K'), (21757, 50, ' Private', 341797, ' HS-grad', 9, ' Divorced', ' Craft-repair', 'No Fimily', ' White', ' Male', 0, 0, 40, ' United-States', ' <=50K'), (21797, 50, ' Private', 71898, ' 5th-6th', 3, ' Married-civ-spouse', ' Machine-op-inspct', ' Wife', ' Asian-Pac-Islander', ' Female', 0, 0, 35, ' Philippines', ' <=50K'), (21817, 50, ' Local-gov', 157043, ' Masters', 14, ' Divorced', ' Prof-specialty', 'No Fimily', ' Black', ' Female', 2202, 0, 30, ' ?', ' <=50K'), (21934, 50, ' Local-gov', 46401, ' Bachelors', 13, ' Divorced', ' Prof-specialty', ' Unmarried', ' White', ' Female', 0, 0, 50, ' United-States', ' <=50K'), (22016, 50, ' Local-gov', 124963, ' HS-grad', 9, ' Married-civ-spouse', ' Craft-repair', ' Husband', ' White', ' Male', 0, 1977, 35, ' United-States', ' >50K'), (22198, 50, ' Private', 163002, ' HS-grad', 9, ' Separated', ' Adm-clerical', ' Other-relative', ' White', ' Female', 0, 0, 40, ' United-States', ' <=50K'), (22230, 50, ' Private', 240496, ' Some-college', 10, ' Divorced', ' Tech-support', 'No Fimily', ' White', ' Female', 0, 0, 36, ' United-States', ' <=50K'), (22244, 50, ' Private', 126566, ' HS-grad', 9, ' Married-civ-spouse', ' Handlers-cleaners', ' Husband', ' Black', ' Male', 0, 0, 40, ' United-States', ' <=50K'), (22250, 50, ' Private', 97741, ' HS-grad', 9, ' Married-civ-spouse', ' Machine-op-inspct', ' Husband', ' White', ' Male', 0, 0, 45, ' United-States', ' >50K'), (22256, 50, ' Private', 172175, ' Prof-school', 15, ' Married-civ-spouse', ' Prof-specialty', ' Husband', ' White', ' Male', 0, 0, 50, ' United-States', ' >50K'), (22274, 50, ' Self-emp-not-inc', 401118, ' HS-grad', 9, ' Married-civ-spouse', ' Craft-repair', ' Husband', ' White', ' Male', 99999, 0, 50, ' United-States', ' >50K'), (22315, 50, ' Local-gov', 141875, ' HS-grad', 9, ' Married-civ-spouse', ' Transport-moving', ' Husband', ' White', ' Male', 0, 0, 40, ' United-States', ' <=50K'), (22389, 50, ' Private', 168212, ' Masters', 14, ' Married-civ-spouse', ' Craft-repair', ' Husband', ' White', ' Male', 0, 1902, 45, ' United-States', ' >50K'), (22431, 50, ' Self-emp-not-inc', 172281, ' HS-grad', 9, ' Married-civ-spouse', ' Exec-managerial', ' Husband', ' White', ' Male', 7688, 0, 50, ' United-States', ' >50K'), (22514, 50, ' Private', 164198, ' Assoc-acdm', 12, ' Married-civ-spouse', ' Handlers-cleaners', ' Husband', ' Black', ' Male', 15024, 0, 45, ' United-States', ' >50K'), (22520, 50, ' Private', 145409, ' HS-grad', 9, ' Married-civ-spouse', ' Transport-moving', ' Husband', ' White', ' Male', 0, 0, 50, ' United-States', ' >50K'), (22594, 50, ' Private', 55527, ' Assoc-acdm', 12, ' Divorced', ' Craft-repair', 'No Fimily', ' Black', ' Male', 0, 0, 45, ' United-States', ' <=50K'), (22629, 50, ' Self-emp-not-inc', 197054, ' Prof-school', 15, ' Divorced', ' Sales', 'No Fimily', ' White', ' Male', 0, 0, 50, ' United-States', ' >50K'), (22671, 50, ' Private', 81548, ' HS-grad', 9, ' Married-civ-spouse', ' Prof-specialty', ' Husband', ' White', ' Male', 0, 0, 40, ' United-States', ' <=50K'), (22782, 50, ' Self-emp-inc', 194514, ' Masters', 14, ' Never-married', ' Prof-specialty', 'No Fimily', ' Black', ' Male', 0, 0, 50, ' Trinadad&Tobago', ' <=50K'), (22886, 50, ' Self-emp-not-inc', 240612, ' Bachelors', 13, ' Divorced', ' Prof-specialty', 'No Fimily', ' White', ' Female', 0, 0, 60, ' United-States', ' <=50K'), (22938, 50, ' State-gov', 24790, ' HS-grad', 9, ' Married-civ-spouse', ' Handlers-cleaners', ' Husband', ' White', ' Male', 0, 0, 40, ' United-States', ' <=50K'), (22999, 50, ' Private', 217577, ' HS-grad', 9, ' Widowed', ' Machine-op-inspct', ' Unmarried', ' White', ' Female', 0, 0, 40, ' United-States', ' <=50K'), (23055, 50, ' Federal-gov', 306707, ' HS-grad', 9, ' Never-married', ' Adm-clerical', ' Unmarried', ' Black', ' Female', 0, 0, 12, ' United-States', ' <=50K'), (23077, 50, ' Private', 43764, ' Doctorate', 16, ' Married-civ-spouse', ' Prof-specialty', ' Husband', ' White', ' Male', 15024, 0, 50, ' United-States', ' >50K'), (23164, 50, ' Private', 195784, ' 12th', 8, ' Divorced', ' Handlers-cleaners', ' Unmarried', ' White', ' Male', 0, 0, 40, ' United-States', ' <=50K'), (23176, 50, ' Local-gov', 339547, ' Prof-school', 15, ' Married-civ-spouse', ' Adm-clerical', ' Husband', ' Asian-Pac-Islander', ' Male', 0, 0, 40, ' Laos', ' >50K'), (23206, 50, ' Local-gov', 163921, ' 7th-8th', 4, ' Married-civ-spouse', ' Transport-moving', ' Husband', ' White', ' Male', 0, 0, 40, ' United-States', ' <=50K'), (23211, 50, ' Private', 266945, ' HS-grad', 9, ' Married-civ-spouse', ' Machine-op-inspct', ' Wife', ' White', ' Female', 3137, 0, 40, ' El-Salvador', ' <=50K'), (23224, 50, ' Self-emp-not-inc', 95949, ' Bachelors', 13, ' Married-civ-spouse', ' Craft-repair', ' Husband', ' White', ' Male', 0, 0, 50, ' United-States', ' <=50K'), (23278, 50, ' Private', 194231, ' Masters', 14, ' Divorced', ' Sales', 'No Fimily', ' White', ' Female', 0, 0, 40, ' United-States', ' >50K'), (23310, 50, ' Self-emp-inc', 67794, ' HS-grad', 9, ' Married-spouse-absent', ' Sales', 'No Fimily', ' White', ' Male', 0, 0, 60, ' United-States', ' <=50K'), (23376, 50, ' Private', 257126, ' HS-grad', 9, ' Married-civ-spouse', ' Craft-repair', ' Husband', ' White', ' Male', 0, 0, 40, ' United-States', ' >50K'), (23412, 50, ' Private', 145717, ' HS-grad', 9, ' Widowed', ' Adm-clerical', ' Unmarried', ' White', ' Female', 0, 0, 35, ' United-States', ' <=50K'), (23416, 50, ' Private', 197322, 'Higher Secondary', 7, ' Married-civ-spouse', ' Exec-managerial', ' Husband', ' White', ' Male', 0, 0, 50, ' United-States', ' >50K'), (23435, 50, ' Private', 160572, ' HS-grad', 9, ' Married-civ-spouse', ' Machine-op-inspct', ' Husband', ' White', ' Male', 3137, 0, 47, ' United-States', ' <=50K'), (23537, 50, ' ?', 194186, ' HS-grad', 9, ' Married-civ-spouse', ' ?', ' Husband', ' White', ' Male', 0, 0, 60, ' United-States', ' <=50K'), (23544, 50, ' Self-emp-not-inc', 29231, ' HS-grad', 9, ' Married-civ-spouse', ' Exec-managerial', ' Husband', ' White', ' Male', 0, 0, 45, ' United-States', ' >50K'), (23641, 50, ' State-gov', 45961, ' Bachelors', 13, ' Married-spouse-absent', ' Prof-specialty', 'No Fimily', ' White', ' Male', 6849, 0, 40, ' United-States', ' <=50K'), (23705, 50, ' Private', 167065, ' Bachelors', 13, ' Married-civ-spouse', ' Exec-managerial', ' Husband', ' White', ' Male', 0, 0, 40, ' United-States', ' >50K'), (23717, 50, ' Private', 283676, ' Some-college', 10, ' Divorced', ' Craft-repair', 'No Fimily', ' White', ' Male', 0, 0, 40, ' United-States', ' <=50K'), (23843, 50, ' Private', 128143, ' Bachelors', 13, ' Married-civ-spouse', ' Craft-repair', ' Husband', ' White', ' Male', 0, 1887, 50, ' United-States', ' >50K'), (23853, 50, ' Self-emp-not-inc', 156951, ' Assoc-acdm', 12, ' Married-civ-spouse', ' Machine-op-inspct', ' Husband', ' White', ' Male', 3103, 0, 40, ' United-States', ' >50K'), (23873, 50, ' Private', 163948, ' Masters', 14, ' Married-civ-spouse', ' Sales', ' Husband', ' White', ' Male', 0, 0, 40, ' United-States', ' >50K'), (23896, 50, ' Local-gov', 196307, ' Some-college', 10, ' Married-civ-spouse', ' Craft-repair', ' Husband', ' White', ' Male', 7688, 0, 40, ' United-States', ' >50K'), (23909, 50, ' Private', 138358, ' 10th', 6, ' Separated', ' Adm-clerical', 'No Fimily', ' Black', ' Female', 0, 0, 47, ' Jamaica', ' <=50K'), (23927, 50, ' Private', 151580, ' Assoc-acdm', 12, ' Married-civ-spouse', ' Craft-repair', ' Husband', ' White', ' Male', 0, 0, 45, ' United-States', ' <=50K'), (24063, 50, ' Self-emp-inc', 163921, ' HS-grad', 9, ' Married-civ-spouse', ' Sales', ' Husband', ' White', ' Male', 0, 0, 48, ' United-States', ' >50K'), (24124, 50, ' Private', 206862, ' Masters', 14, ' Married-civ-spouse', ' Exec-managerial', ' Husband', ' White', ' Male', 0, 0, 65, ' United-States', ' >50K'), (24170, 50, ' Private', 128798, ' Bachelors', 13, ' Married-civ-spouse', ' Tech-support', ' Husband', ' White', ' Male', 0, 0, 40, ' United-States', ' >50K'), (24179, 50, ' Self-emp-not-inc', 145419, ' Masters', 14, ' Married-civ-spouse', ' Sales', ' Husband', ' White', ' Male', 7688, 0, 45, ' United-States', ' >50K'), (24187, 50, ' Private', 167886, ' Some-college', 10, ' Married-civ-spouse', ' Sales', ' Husband', ' White', ' Male', 0, 0, 40, ' United-States', ' >50K'), (24378, 50, ' ?', 123044, ' Masters', 14, ' Married-civ-spouse', ' ?', ' Husband', ' White', ' Male', 0, 0, 60, ' United-States', ' >50K'), (24415, 50, ' Local-gov', 212685, ' HS-grad', 9, ' Married-civ-spouse', ' Other-service', ' Husband', ' Black', ' Male', 0, 0, 40, ' United-States', ' <=50K'), (24420, 50, ' Private', 99925, ' HS-grad', 9, ' Married-civ-spouse', ' Adm-clerical', ' Husband', ' White', ' Male', 0, 0, 32, ' United-States', ' <=50K'), (24468, 50, ' Local-gov', 218382, ' Some-college', 10, ' Divorced', ' Other-service', ' Unmarried', ' Black', ' Female', 0, 0, 40, ' United-States', ' <=50K'), (24509, 50, ' Self-emp-not-inc', 132716, ' Prof-school', 15, ' Married-civ-spouse', ' Exec-managerial', ' Husband', ' White', ' Male', 99999, 0, 50, ' United-States', ' >50K'), (24525, 50, ' Private', 174655, ' Some-college', 10, ' Married-civ-spouse', ' Sales', ' Husband', ' White', ' Male', 0, 0, 45, ' United-States', ' >50K'), (24536, 50, ' Private', 192964, ' HS-grad', 9, ' Divorced', ' Sales', ' Unmarried', ' White', ' Female', 0, 0, 65, ' United-States', ' <=50K'), (24540, 50, ' Private', 94885, ' Bachelors', 13, ' Divorced', ' Prof-specialty', 'No Fimily', ' White', ' Male', 0, 0, 45, ' United-States', ' >50K'), (24668, 50, ' Private', 279461, ' Some-college', 10, ' Married-civ-spouse', ' Transport-moving', ' Husband', ' White', ' Male', 0, 0, 40, ' United-States', ' >50K'), (24789, 50, ' Self-emp-inc', 167793, ' Prof-school', 15, ' Married-civ-spouse', ' Prof-specialty', ' Husband', ' White', ' Male', 0, 2415, 60, ' United-States', ' >50K'), (24814, 50, ' Private', 23686, ' Some-college', 10, ' Married-civ-spouse', ' Adm-clerical', ' Other-relative', ' White', ' Female', 0, 0, 35, ' United-States', ' >50K'), (24883, 50, ' Local-gov', 320386, ' Assoc-acdm', 12, ' Divorced', ' Prof-specialty', 'No Fimily', ' White', ' Female', 0, 0, 40, ' United-States', ' <=50K'), (24973, 50, ' Private', 280278, ' HS-grad', 9, ' Widowed', ' Prof-specialty', ' Unmarried', ' Black', ' Female', 0, 0, 40, ' United-States', ' <=50K'), (25090, 50, ' Local-gov', 191025, ' Masters', 14, ' Divorced', ' Exec-managerial', 'No Fimily', ' White', ' Female', 4650, 0, 70, ' United-States', ' <=50K'), (25138, 50, ' Private', 185407, ' Assoc-voc', 11, ' Married-civ-spouse', ' Tech-support', ' Husband', ' White', ' Male', 0, 0, 38, ' United-States', ' >50K'), (25142, 50, ' Local-gov', 96062, ' HS-grad', 9, ' Married-civ-spouse', ' Protective-serv', ' Husband', ' White', ' Male', 0, 0, 40, ' United-States', ' <=50K'), (25173, 50, ' Private', 104501, ' HS-grad', 9, ' Married-civ-spouse', ' Craft-repair', ' Husband', ' White', ' Male', 0, 0, 40, ' United-States', ' >50K'), (25253, 50, ' Private', 74879, ' HS-grad', 9, ' Married-spouse-absent', ' Handlers-cleaners', ' Unmarried', ' White', ' Female', 0, 0, 40, ' United-States', ' <=50K'), (25260, 50, ' Self-emp-inc', 283676, ' Doctorate', 16, ' Married-civ-spouse', ' Prof-specialty', ' Husband', ' White', ' Male', 15024, 0, 60, ' United-States', ' >50K'), (25274, 50, ' Self-emp-inc', 201689, ' 7th-8th', 4, ' Married-civ-spouse', ' Craft-repair', ' Husband', ' White', ' Male', 0, 1977, 63, ' ?', ' >50K'), (25421, 50, ' Private', 65408, ' HS-grad', 9, ' Married-civ-spouse', ' Craft-repair', ' Husband', ' White', ' Male', 0, 0, 50, ' United-States', ' >50K'), (25428, 50, ' Private', 268553, ' HS-grad', 9, ' Married-civ-spouse', ' Transport-moving', ' Husband', ' White', ' Male', 7298, 0, 40, ' United-States', ' >50K'), (25584, 50, ' Private', 240612, ' HS-grad', 9, ' Married-spouse-absent', ' Exec-managerial', ' Unmarried', ' White', ' Female', 0, 0, 10, ' United-States', ' <=50K'), (25594, 50, ' Self-emp-inc', 304955, ' Bachelors', 13, ' Married-civ-spouse', ' Sales', ' Husband', ' White', ' Male', 0, 0, 60, ' United-States', ' >50K'), (25687, 50, ' Private', 36480, ' HS-grad', 9, ' Married-civ-spouse', ' Exec-managerial', ' Husband', ' White', ' Male', 0, 0, 40, ' United-States', ' <=50K'), (25721, 50, ' Private', 20795, ' HS-grad', 9, ' Married-civ-spouse', ' Farming-fishing', ' Husband', ' White', ' Male', 0, 0, 60, ' United-States', ' >50K'), (25880, 50, ' Self-emp-inc', 140516, ' Bachelors', 13, ' Married-civ-spouse', ' Adm-clerical', ' Husband', ' White', ' Male', 0, 0, 40, ' United-States', ' <=50K'), (25898, 50, ' Private', 169646, ' Bachelors', 13, ' Separated', ' Prof-specialty', ' Unmarried', ' Asian-Pac-Islander', ' Female', 0, 0, 40, ' Philippines', ' <=50K'), (25965, 50, ' Self-emp-inc', 160107, ' Masters', 14, ' Married-civ-spouse', ' Prof-specialty', ' Husband', ' White', ' Male', 0, 0, 55, ' United-States', ' >50K'), (25979, 50, ' ?', 257117, ' 9th', 5, ' Married-civ-spouse', ' ?', ' Husband', ' White', ' Male', 0, 0, 50, ' United-States', ' <=50K'), (26001, 50, ' Federal-gov', 184007, ' Some-college', 10, ' Married-civ-spouse', ' Adm-clerical', ' Husband', ' White', ' Male', 0, 0, 40, ' United-States', ' <=50K'), (26029, 50, ' Private', 116933, ' HS-grad', 9, ' Divorced', ' Sales', 'No Fimily', ' White', ' Female', 0, 0, 33, ' United-States', ' <=50K'), (26202, 50, ' Private', 93730, ' 10th', 6, ' Married-civ-spouse', ' Transport-moving', ' Husband', ' White', ' Male', 0, 0, 60, ' United-States', ' <=50K'), (26242, 50, ' Federal-gov', 32801, ' Bachelors', 13, ' Married-civ-spouse', ' Exec-managerial', ' Wife', ' Amer-Indian-Eskimo', ' Female', 0, 0, 40, ' United-States', ' >50K'), (26282, 50, ' Private', 178596, ' HS-grad', 9, ' Divorced', ' Craft-repair', ' Unmarried', ' White', ' Male', 0, 1408, 50, ' United-States', ' <=50K'), (26285, 50, ' Private', 338033, ' Some-college', 10, ' Never-married', ' Other-service', 'No Fimily', ' White', ' Male', 0, 0, 32, ' United-States', ' <=50K'), (26299, 50, ' Self-emp-not-inc', 167728, ' Doctorate', 16, ' Married-civ-spouse', ' Prof-specialty', ' Husband', ' White', ' Male', 0, 0, 60, ' United-States', ' >50K'), (26351, 50, ' State-gov', 276241, ' Bachelors', 13, ' Married-civ-spouse', ' Exec-managerial', ' Husband', ' White', ' Male', 0, 0, 40, ' United-States', ' >50K'), (26403, 50, ' Private', 138270, ' HS-grad', 9, ' Married-civ-spouse', ' Sales', ' Wife', ' Black', ' Female', 0, 0, 40, ' United-States', ' <=50K'), (26503, 50, ' Private', 558490, ' HS-grad', 9, ' Divorced', ' Adm-clerical', 'No Fimily', ' Black', ' Male', 0, 0, 40, ' United-States', ' <=50K'), (26561, 50, ' State-gov', 297551, ' HS-grad', 9, ' Married-civ-spouse', ' Prof-specialty', ' Husband', ' White', ' Male', 0, 0, 52, ' United-States', ' <=50K'), (26562, 50, ' Private', 198362, ' Assoc-voc', 11, ' Widowed', ' Exec-managerial', ' Unmarried', ' White', ' Female', 0, 0, 40, ' United-States', ' <=50K'), (26579, 50, ' Private', 171852, ' Bachelors', 13, ' Separated', ' Prof-specialty', ' Own-child', ' Other', ' Female', 0, 0, 40, ' United-States', ' <=50K'), (26709, 50, ' Private', 134766, ' Bachelors', 13, ' Married-civ-spouse', ' Exec-managerial', ' Husband', ' White', ' Male', 0, 1902, 50, ' United-States', ' >50K'), (26764, 50, ' Local-gov', 100480, ' Masters', 14, ' Married-civ-spouse', ' Exec-managerial', ' Husband', ' White', ' Male', 0, 0, 60, ' United-States', ' >50K'), (26864, 50, ' Private', 339954, ' Assoc-voc', 11, ' Married-civ-spouse', ' Craft-repair', ' Husband', ' White', ' Male', 0, 0, 40, ' United-States', ' >50K'), (26938, 50, ' Private', 117295, ' 10th', 6, ' Married-civ-spouse', ' Craft-repair', ' Husband', ' White', ' Male', 0, 0, 40, ' United-States', ' <=50K'), (26945, 50, ' Private', 129956, ' HS-grad', 9, ' Married-civ-spouse', ' Craft-repair', ' Husband', ' White', ' Male', 0, 0, 48, ' United-States', ' >50K'), (26962, 50, ' Private', 213290, ' Assoc-voc', 11, ' Married-civ-spouse', ' Prof-specialty', ' Wife', ' White', ' Female', 0, 1887, 36, ' United-States', ' >50K'), (27118, 50, ' Local-gov', 24139, ' Masters', 14, ' Divorced', ' Prof-specialty', ' Unmarried', ' White', ' Female', 0, 0, 65, ' United-States', ' <=50K'), (27158, 50, ' Self-emp-inc', 155574, ' Masters', 14, ' Married-civ-spouse', ' Prof-specialty', ' Husband', ' White', ' Male', 7298, 0, 50, ' United-States', ' >50K'), (27163, 50, ' Private', 95435, ' 7th-8th', 4, ' Married-civ-spouse', ' Transport-moving', ' Husband', ' White', ' Male', 0, 1579, 65, ' Canada', ' <=50K'), (27226, 50, ' Private', 211116, ' 10th', 6, ' Married-civ-spouse', ' Other-service', ' Husband', ' Black', ' Male', 0, 0, 40, ' United-States', ' <=50K'), (27307, 50, ' Self-emp-not-inc', 196504, ' Doctorate', 16, ' Married-civ-spouse', ' Prof-specialty', ' Husband', ' White', ' Male', 0, 0, 23, ' United-States', ' <=50K'), (27344, 50, ' Private', 270194, ' Bachelors', 13, ' Married-civ-spouse', ' Exec-managerial', ' Husband', ' White', ' Male', 0, 0, 60, ' United-States', ' <=50K'), (27380, 50, ' Federal-gov', 222020, ' HS-grad', 9, ' Married-civ-spouse', ' Adm-clerical', ' Husband', ' White', ' Male', 0, 0, 48, ' United-States', ' <=50K'), (27397, 50, ' State-gov', 97778, ' HS-grad', 9, ' Married-civ-spouse', ' Protective-serv', ' Husband', ' White', ' Male', 0, 0, 40, ' United-States', ' <=50K'), (27479, 50, ' Private', 135339, ' 12th', 8, ' Married-civ-spouse', ' Sales', ' Husband', ' Asian-Pac-Islander', ' Male', 0, 0, 40, ' Cambodia', ' >50K'), (27483, 50, ' Private', 306790, ' Some-college', 10, ' Married-civ-spouse', ' Craft-repair', ' Husband', ' White', ' Male', 0, 0, 40, ' United-States', ' >50K'), (27529, 50, ' Private', 146429, ' HS-grad', 9, ' Married-civ-spouse', ' Craft-repair', ' Husband', ' White', ' Male', 0, 0, 40, ' United-States', ' <=50K'), (27546, 50, ' Self-emp-not-inc', 27539, ' Some-college', 10, ' Married-civ-spouse', ' Farming-fishing', ' Husband', ' White', ' Male', 7688, 0, 40, ' United-States', ' >50K'), (27560, 50, ' Private', 171199, 'Higher Secondary', 7, ' Divorced', ' Other-service', ' Unmarried', ' White', ' Female', 0, 0, 40, ' United-States', ' <=50K'), (27572, 50, ' Local-gov', 164127, ' HS-grad', 9, ' Never-married', ' Other-service', 'No Fimily', ' Black', ' Female', 0, 0, 40, ' United-States', ' <=50K'), (27697, 50, ' ?', 222381, ' Some-college', 10, ' Divorced', ' ?', ' Unmarried', ' White', ' Male', 0, 0, 40, ' United-States', ' <=50K'), (27731, 50, ' Private', 104501, ' HS-grad', 9, ' Never-married', ' Adm-clerical', 'No Fimily', ' White', ' Male', 0, 1980, 40, ' United-States', ' <=50K'), (27778, 50, ' Private', 163671, ' HS-grad', 9, ' Married-civ-spouse', ' Craft-repair', ' Husband', ' White', ' Male', 0, 0, 40, ' United-States', ' <=50K'), (27792, 50, ' Private', 195638, ' 10th', 6, ' Separated', ' Adm-clerical', ' Unmarried', ' White', ' Female', 0, 0, 40, ' United-States', ' <=50K'), (27890, 50, ' Private', 177927, ' HS-grad', 9, ' Divorced', ' Protective-serv', 'No Fimily', ' White', ' Male', 0, 0, 40, ' United-States', ' <=50K'), (27972, 50, ' Private', 548361, ' Bachelors', 13, ' Married-civ-spouse', ' Tech-support', ' Husband', ' White', ' Male', 0, 0, 20, ' United-States', ' >50K'), (28052, 50, ' Private', 126592, ' HS-grad', 9, ' Separated', ' Craft-repair', 'No Fimily', ' Black', ' Male', 0, 0, 40, ' United-States', ' <=50K'), (28103, 50, ' Private', 183638, ' HS-grad', 9, ' Widowed', ' Sales', ' Unmarried', ' White', ' Female', 0, 0, 40, ' United-States', ' <=50K'), (28233, 50, ' Private', 128143, ' Bachelors', 13, ' Married-civ-spouse', ' Exec-managerial', ' Husband', ' White', ' Male', 0, 0, 50, ' United-States', ' >50K'), (28301, 50, ' Private', 301583, ' HS-grad', 9, ' Never-married', ' Machine-op-inspct', 'No Fimily', ' White', ' Male', 0, 0, 40, ' United-States', ' <=50K'), (28342, 50, ' Private', 196193, ' Bachelors', 13, ' Married-civ-spouse', ' Craft-repair', ' Husband', ' White', ' Male', 0, 0, 40, ' ?', ' <=50K'), (28382, 50, ' Private', 462966, ' 10th', 6, ' Married-civ-spouse', ' Other-service', ' Husband', ' White', ' Male', 0, 0, 8, ' El-Salvador', ' <=50K'), (28467, 50, ' Private', 108933, ' 9th', 5, ' Married-civ-spouse', ' Craft-repair', ' Husband', ' White', ' Male', 2885, 0, 40, ' United-States', ' <=50K'), (28537, 50, ' Private', 269095, ' Bachelors', 13, ' Divorced', ' Exec-managerial', ' Unmarried', ' White', ' Female', 0, 0, 40, ' United-States', ' >50K'), (28592, 50, ' State-gov', 172970, ' HS-grad', 9, ' Married-civ-spouse', ' Transport-moving', ' Husband', ' White', ' Male', 0, 0, 40, ' Puerto-Rico', ' <=50K'), (28651, 50, ' Self-emp-not-inc', 42402, ' Prof-school', 15, ' Married-civ-spouse', ' Prof-specialty', ' Husband', ' White', ' Male', 0, 2415, 30, ' United-States', ' >50K'), (28748, 50, ' Self-emp-not-inc', 99894, ' 5th-6th', 3, ' Never-married', ' Tech-support', 'No Fimily', ' Asian-Pac-Islander', ' Female', 0, 0, 15, ' United-States', ' <=50K'), (28777, 50, ' Self-emp-not-inc', 183915, ' Bachelors', 13, ' Married-civ-spouse', ' Craft-repair', ' Husband', ' White', ' Male', 0, 0, 45, ' United-States', ' >50K'), (28784, 50, ' Private', 150975, ' HS-grad', 9, ' Divorced', ' Machine-op-inspct', 'No Fimily', ' Amer-Indian-Eskimo', ' Female', 0, 0, 40, ' United-States', ' <=50K'), (28820, 50, ' Private', 138852, ' Some-college', 10, ' Divorced', ' Craft-repair', 'No Fimily', ' White', ' Male', 4650, 0, 22, ' United-States', ' <=50K'), (28902, 50, ' Private', 271262, ' HS-grad', 9, ' Married-civ-spouse', ' Transport-moving', ' Husband', ' White', ' Male', 0, 0, 40, ' United-States', ' >50K'), (28953, 50, ' Private', 132716, ' HS-grad', 9, ' Married-civ-spouse', ' Transport-moving', ' Husband', ' White', ' Male', 0, 0, 40, ' United-States', ' >50K'), (28961, 50, ' Private', 182907, ' HS-grad', 9, ' Never-married', ' Handlers-cleaners', ' Own-child', ' White', ' Male', 0, 0, 25, ' United-States', ' <=50K'), (28987, 50, ' Private', 269095, ' HS-grad', 9, ' Divorced', ' Adm-clerical', 'No Fimily', ' White', ' Female', 0, 0, 40, ' United-States', ' <=50K'), (29131, 50, ' Self-emp-not-inc', 334273, ' Bachelors', 13, ' Married-civ-spouse', ' Sales', ' Husband', ' White', ' Male', 0, 0, 8, ' United-States', ' <=50K'), (29135, 50, ' Federal-gov', 343014, ' Some-college', 10, ' Married-civ-spouse', ' Exec-managerial', ' Husband', ' Black', ' Male', 0, 0, 40, ' United-States', ' <=50K'), (29146, 50, ' Private', 94081, ' HS-grad', 9, ' Married-civ-spouse', ' Exec-managerial', ' Husband', ' White', ' Male', 0, 0, 40, ' United-States', ' >50K'), (29227, 50, ' Private', 213296, ' Some-college', 10, ' Married-civ-spouse', ' Craft-repair', ' Husband', ' White', ' Male', 0, 0, 48, ' United-States', ' >50K'), (29255, 50, ' Self-emp-not-inc', 213654, ' HS-grad', 9, ' Married-civ-spouse', ' Sales', ' Husband', ' Black', ' Male', 0, 0, 40, ' United-States', ' <=50K'), (29315, 50, ' Private', 146325, ' HS-grad', 9, ' Married-civ-spouse', ' Craft-repair', ' Husband', ' White', ' Male', 0, 0, 44, ' United-States', ' >50K'), (29351, 50, ' Self-emp-inc', 251240, ' Masters', 14, ' Married-civ-spouse', ' Sales', ' Husband', ' White', ' Male', 0, 0, 40, ' United-States', ' >50K'), (29356, 50, ' Private', 176227, ' Bachelors', 13, ' Married-civ-spouse', ' Exec-managerial', ' Husband', ' White', ' Male', 0, 0, 40, ' ?', ' >50K'), (29396, 50, ' ?', 204577, ' Bachelors', 13, ' Married-civ-spouse', ' ?', ' Husband', ' Black', ' Male', 0, 1902, 60, ' United-States', ' >50K'), (29499, 50, ' Private', 313546, ' HS-grad', 9, ' Separated', ' Other-service', ' Unmarried', ' Black', ' Female', 0, 0, 40, ' United-States', ' <=50K'), (29522, 50, ' Private', 123174, ' Doctorate', 16, ' Married-civ-spouse', ' Prof-specialty', ' Husband', ' Black', ' Male', 0, 0, 37, ' ?', ' >50K'), (29547, 50, ' Private', 226497, ' Some-college', 10, ' Married-civ-spouse', ' Tech-support', ' Husband', ' White', ' Male', 0, 0, 45, ' United-States', ' >50K'), (29653, 50, ' Private', 109277, ' HS-grad', 9, ' Married-civ-spouse', ' Machine-op-inspct', ' Husband', ' White', ' Male', 0, 0, 40, ' United-States', ' >50K'), (29739, 50, ' Self-emp-not-inc', 124793, ' Some-college', 10, ' Married-civ-spouse', ' Craft-repair', ' Husband', ' White', ' Male', 0, 0, 55, ' United-States', ' <=50K'), (29740, 50, ' Private', 22211, ' Masters', 14, ' Married-civ-spouse', ' Prof-specialty', ' Husband', ' White', ' Male', 7688, 0, 50, ' United-States', ' >50K'), (29777, 50, ' Private', 175339, ' HS-grad', 9, ' Married-civ-spouse', ' Handlers-cleaners', ' Husband', ' White', ' Male', 0, 0, 40, ' United-States', ' >50K'), (29828, 50, ' Private', 46155, ' Assoc-voc', 11, ' Divorced', ' Prof-specialty', ' Unmarried', ' White', ' Female', 0, 0, 40, ' United-States', ' >50K'), (29859, 50, ' Private', 154728, ' Some-college', 10, ' Married-civ-spouse', ' Tech-support', ' Husband', ' White', ' Male', 0, 0, 40, ' United-States', ' >50K'), (29910, 50, ' Self-emp-not-inc', 156606, ' Some-college', 10, ' Married-civ-spouse', ' Exec-managerial', ' Wife', ' White', ' Female', 0, 0, 30, ' United-States', ' <=50K'), (29917, 50, ' Local-gov', 234143, ' Masters', 14, ' Married-civ-spouse', ' Exec-managerial', ' Husband', ' Black', ' Male', 0, 0, 45, ' United-States', ' >50K'), (29920, 50, ' State-gov', 54709, ' HS-grad', 9, ' Divorced', ' Adm-clerical', ' Unmarried', ' White', ' Female', 0, 0, 46, ' United-States', ' <=50K'), (29982, 50, ' Private', 155574, ' HS-grad', 9, ' Married-civ-spouse', ' Prof-specialty', ' Husband', ' White', ' Male', 0, 0, 40, ' United-States', ' >50K'), (30148, 50, ' Private', 135465, ' Bachelors', 13, ' Married-civ-spouse', ' Exec-managerial', ' Husband', ' White', ' Male', 0, 0, 50, ' United-States', ' >50K'), (30168, 50, ' Private', 41890, ' HS-grad', 9, ' Married-civ-spouse', ' Craft-repair', ' Husband', ' White', ' Male', 0, 0, 40, ' United-States', ' <=50K'), (30214, 50, ' Federal-gov', 339905, ' Some-college', 10, ' Married-civ-spouse', ' Exec-managerial', ' Husband', ' White', ' Male', 0, 0, 40, ' United-States', ' >50K'), (30241, 50, ' Self-emp-not-inc', 89737, ' Some-college', 10, ' Married-civ-spouse', ' Craft-repair', ' Husband', ' White', ' Male', 0, 0, 48, ' United-States', ' <=50K'), (30243, 50, ' Self-emp-inc', 190333, ' Prof-school', 15, ' Married-civ-spouse', ' Prof-specialty', ' Husband', ' White', ' Male', 99999, 0, 55, ' United-States', ' >50K'), (30338, 50, ' Private', 175804, ' Bachelors', 13, ' Married-civ-spouse', ' Sales', ' Husband', ' White', ' Male', 0, 0, 40, ' United-States', ' >50K'), (30340, 50, ' State-gov', 201513, ' HS-grad', 9, ' Divorced', ' Adm-clerical', ' Own-child', ' White', ' Female', 0, 0, 40, ' United-States', ' <=50K'), (30399, 50, ' Self-emp-inc', 152810, ' Some-college', 10, ' Married-civ-spouse', ' Machine-op-inspct', ' Husband', ' White', ' Male', 0, 0, 70, ' Germany', ' <=50K'), (30480, 50, ' Self-emp-not-inc', 371305, ' HS-grad', 9, ' Married-civ-spouse', ' Sales', ' Husband', ' White', ' Male', 0, 1902, 60, ' United-States', ' >50K'), (30532, 50, ' Self-emp-not-inc', 131982, ' HS-grad', 9, ' Married-civ-spouse', ' Other-service', ' Husband', ' Asian-Pac-Islander', ' Male', 0, 0, 60, ' South', ' <=50K'), (30669, 50, ' Private', 205100, ' 7th-8th', 4, ' Married-civ-spouse', ' Other-service', ' Wife', ' White', ' Female', 0, 0, 35, ' ?', ' <=50K'), (30754, 50, ' Local-gov', 308764, ' HS-grad', 9, ' Widowed', ' Transport-moving', ' Unmarried', ' White', ' Female', 0, 0, 40, ' United-States', ' <=50K'), (30757, 50, ' Private', 230951, ' Bachelors', 13, ' Married-civ-spouse', ' Sales', ' Husband', ' White', ' Male', 0, 0, 40, ' United-States', ' <=50K'), (30817, 50, ' Private', 234657, ' Some-college', 10, ' Divorced', ' Adm-clerical', ' Unmarried', ' White', ' Female', 0, 0, 40, ' United-States', ' <=50K'), (30902, 50, ' State-gov', 238187, ' Bachelors', 13, ' Divorced', ' Adm-clerical', 'No Fimily', ' Black', ' Female', 0, 0, 37, ' United-States', ' <=50K'), (30920, 50, ' Private', 175029, ' HS-grad', 9, ' Married-civ-spouse', ' Handlers-cleaners', ' Husband', ' White', ' Male', 0, 0, 40, ' United-States', ' >50K'), (31012, 50, ' Private', 187830, ' Masters', 14, ' Divorced', ' Exec-managerial', 'No Fimily', ' White', ' Male', 0, 0, 62, ' United-States', ' >50K'), (31045, 50, ' Self-emp-not-inc', 143730, ' Bachelors', 13, ' Married-civ-spouse', ' Farming-fishing', ' Husband', ' White', ' Male', 0, 0, 80, ' United-States', ' <=50K'), (31053, 50, ' Private', 34067, ' Assoc-voc', 11, ' Married-civ-spouse', ' Exec-managerial', ' Husband', ' White', ' Male', 0, 0, 50, ' United-States', ' >50K'), (31075, 50, ' Self-emp-inc', 101094, ' Masters', 14, ' Married-civ-spouse', ' Sales', ' Husband', ' White', ' Male', 0, 0, 55, ' United-States', ' <=50K'), (31080, 50, ' Private', 263200, ' 5th-6th', 3, ' Married-spouse-absent', ' Other-service', ' Unmarried', ' White', ' Female', 0, 0, 34, ' Mexico', ' <=50K'), (31121, 50, ' Private', 28952, ' Some-college', 10, ' Married-civ-spouse', ' Sales', ' Wife', ' White', ' Female', 0, 0, 39, ' United-States', ' <=50K'), (31158, 50, ' Private', 228238, ' HS-grad', 9, ' Married-civ-spouse', ' Craft-repair', ' Husband', ' White', ' Male', 0, 0, 40, ' United-States', ' >50K'), (31176, 50, ' Private', 128814, ' HS-grad', 9, ' Divorced', ' Other-service', ' Unmarried', ' White', ' Female', 0, 0, 25, ' United-States', ' <=50K'), (31195, 50, ' Local-gov', 74660, ' Some-college', 10, ' Widowed', ' Prof-specialty', ' Unmarried', ' White', ' Male', 0, 0, 40, ' United-States', ' <=50K'), (31223, 50, ' Federal-gov', 111700, ' Masters', 14, ' Never-married', ' Exec-managerial', 'No Fimily', ' White', ' Female', 0, 0, 50, ' United-States', ' <=50K'), (31315, 50, ' Private', 421561, ' Some-college', 10, ' Divorced', ' Exec-managerial', 'No Fimily', ' White', ' Male', 0, 0, 40, ' United-States', ' <=50K'), (31372, 50, ' Local-gov', 231725, ' HS-grad', 9, ' Married-civ-spouse', ' Handlers-cleaners', ' Husband', ' White', ' Male', 0, 0, 40, ' United-States', ' <=50K'), (31399, 50, ' Private', 201882, ' Masters', 14, ' Married-civ-spouse', ' Machine-op-inspct', ' Husband', ' White', ' Male', 0, 0, 30, ' United-States', ' <=50K'), (31607, 50, ' Private', 102346, ' Bachelors', 13, ' Married-civ-spouse', ' Exec-managerial', ' Wife', ' White', ' Female', 0, 2415, 20, ' United-States', ' >50K'), (31637, 50, ' Private', 344621, ' HS-grad', 9, ' Divorced', ' Machine-op-inspct', 'No Fimily', ' White', ' Female', 0, 0, 40, ' United-States', ' <=50K'), (31726, 50, ' Private', 176157, ' Masters', 14, ' Married-civ-spouse', ' Exec-managerial', ' Husband', ' White', ' Male', 0, 0, 50, ' United-States', ' >50K'), (31729, 50, ' Private', 107665, ' Some-college', 10, ' Married-civ-spouse', ' Sales', ' Husband', ' White', ' Male', 0, 0, 40, ' United-States', ' >50K'), (31785, 50, ' Private', 102615, ' HS-grad', 9, ' Married-civ-spouse', ' Exec-managerial', ' Husband', ' White', ' Male', 0, 1902, 40, ' United-States', ' >50K'), (31885, 50, ' Local-gov', 117496, ' Bachelors', 13, ' Married-civ-spouse', ' Prof-specialty', ' Wife', ' White', ' Female', 0, 0, 24, ' United-States', ' <=50K'), (31913, 50, ' Private', 301024, ' Bachelors', 13, ' Separated', ' Sales', 'No Fimily', ' White', ' Male', 0, 0, 40, ' United-States', ' >50K'), (31935, 50, ' Self-emp-inc', 52565, ' Some-college', 10, ' Married-civ-spouse', ' Sales', ' Husband', ' White', ' Male', 0, 1485, 40, ' United-States', ' <=50K'), (31973, 50, ' Private', 310774, ' Bachelors', 13, ' Married-civ-spouse', ' Sales', ' Husband', ' White', ' Male', 0, 0, 35, ' United-States', ' <=50K'), (32016, 50, ' Private', 99476, ' Masters', 14, ' Divorced', ' Prof-specialty', 'No Fimily', ' White', ' Female', 0, 0, 35, ' United-States', ' <=50K'), (32024, 50, ' Private', 139703, ' Some-college', 10, ' Married-civ-spouse', ' Craft-repair', ' Husband', ' White', ' Male', 0, 0, 40, ' United-States', ' >50K'), (32126, 50, ' Private', 187465, 'Higher Secondary', 7, ' Divorced', ' Sales', 'No Fimily', ' White', ' Female', 0, 0, 40, ' United-States', ' <=50K'), (32137, 50, ' Self-emp-inc', 121441, 'Higher Secondary', 7, ' Never-married', ' Exec-managerial', ' Other-relative', ' White', ' Male', 0, 2444, 40, ' United-States', ' >50K'), (32146, 50, ' Self-emp-not-inc', 240922, ' Assoc-acdm', 12, ' Never-married', ' Sales', 'No Fimily', ' White', ' Female', 0, 1408, 5, ' United-States', ' <=50K'), (32181, 50, ' Private', 195690, ' HS-grad', 9, ' Married-civ-spouse', ' Handlers-cleaners', ' Husband', ' White', ' Male', 0, 0, 45, ' United-States', ' <=50K'), (32221, 50, ' Private', 177896, ' Doctorate', 16, ' Married-civ-spouse', ' Prof-specialty', ' Husband', ' White', ' Male', 0, 0, 40, ' United-States', ' >50K'), (32280, 50, ' Private', 38795, ' Bachelors', 13, ' Married-civ-spouse', ' Prof-specialty', ' Husband', ' White', ' Male', 0, 0, 50, ' United-States', ' <=50K'), (32293, 50, ' Private', 92811, ' Bachelors', 13, ' Married-civ-spouse', ' Tech-support', ' Husband', ' White', ' Male', 0, 0, 40, ' United-States', ' <=50K'), (32330, 50, ' Private', 278188, ' HS-grad', 9, ' Divorced', ' Craft-repair', 'No Fimily', ' White', ' Female', 0, 0, 45, ' United-States', ' <=50K'), (32453, 50, ' Private', 257933, ' Some-college', 10, ' Divorced', ' Adm-clerical', 'No Fimily', ' White', ' Female', 0, 0, 40, ' United-States', ' <=50K'), (32469, 50, ' Private', 485710, ' Doctorate', 16, ' Divorced', ' Prof-specialty', 'No Fimily', ' White', ' Female', 0, 0, 50, ' United-States', ' <=50K'), (32503, 50, ' Private', 208630, ' Masters', 14, ' Divorced', ' Sales', 'No Fimily', ' White', ' Female', 0, 0, 50, ' United-States', ' >50K'), (32506, 50, ' Private', 302372, ' Bachelors', 13, ' Married-civ-spouse', ' Prof-specialty', ' Husband', ' White', ' Male', 0, 0, 40, ' United-States', ' <=50K')]\n"
     ]
    }
   ],
   "source": [
    "cursor.execute('select * from sqladb where  Age =50 and  Race<>\"White\"')#Filter-2\n",
    "output = cursor.fetchall()\n",
    "print(output)"
   ]
  },
  {
   "cell_type": "markdown",
   "metadata": {},
   "source": [
    "# Q5. Write two function queries"
   ]
  },
  {
   "cell_type": "code",
   "execution_count": 41,
   "metadata": {},
   "outputs": [
    {
     "name": "stdout",
     "output_type": "stream",
     "text": [
      "[(' 10th', 933), (' 12th', 433), (' 1st-4th', 168), (' 5th-6th', 333), (' 7th-8th', 646), (' 9th', 514), (' Assoc-acdm', 1067), (' Assoc-voc', 1382), (' Bachelors', 5354), (' Doctorate', 413), (' HS-grad', 10501), (' Masters', 1723), (' Preschool', 51), (' Prof-school', 576), (' Some-college', 7291), ('Higher Secondary', 1175)]\n"
     ]
    }
   ],
   "source": [
    "cursor.execute('SELECT Education, COUNT(*) FROM sqladb GROUP BY Education')\n",
    "output = cursor.fetchall()\n",
    "print(output)"
   ]
  },
  {
   "cell_type": "code",
   "execution_count": 42,
   "metadata": {},
   "outputs": [
    {
     "name": "stdout",
     "output_type": "stream",
     "text": [
      "[(90,)]\n"
     ]
    }
   ],
   "source": [
    "cursor.execute('SELECT  Max(Age) FROM sqladb')\n",
    "output = cursor.fetchall()\n",
    "print(output)"
   ]
  },
  {
   "cell_type": "code",
   "execution_count": 43,
   "metadata": {},
   "outputs": [
    {
     "name": "stdout",
     "output_type": "stream",
     "text": [
      "[(' 10th', 90), (' 12th', 79), (' 1st-4th', 90), (' 5th-6th', 84), (' 7th-8th', 90), (' 9th', 90), (' Assoc-acdm', 90), (' Assoc-voc', 84), (' Bachelors', 90), (' Doctorate', 80), (' HS-grad', 90), (' Masters', 90), (' Preschool', 75), (' Prof-school', 90), (' Some-college', 90), ('Higher Secondary', 90)]\n"
     ]
    }
   ],
   "source": [
    "cursor.execute('SELECT  Education,Max(Age) as MAXAGE FROM sqladb Group by Education')\n",
    "output = cursor.fetchall()\n",
    "print(output)"
   ]
  },
  {
   "cell_type": "code",
   "execution_count": null,
   "metadata": {},
   "outputs": [],
   "source": []
  },
  {
   "cell_type": "code",
   "execution_count": null,
   "metadata": {},
   "outputs": [],
   "source": []
  },
  {
   "cell_type": "code",
   "execution_count": null,
   "metadata": {},
   "outputs": [],
   "source": []
  }
 ],
 "metadata": {
  "kernelspec": {
   "display_name": "Python 3",
   "language": "python",
   "name": "python3"
  },
  "language_info": {
   "codemirror_mode": {
    "name": "ipython",
    "version": 3
   },
   "file_extension": ".py",
   "mimetype": "text/x-python",
   "name": "python",
   "nbconvert_exporter": "python",
   "pygments_lexer": "ipython3",
   "version": "3.6.4"
  }
 },
 "nbformat": 4,
 "nbformat_minor": 2
}
